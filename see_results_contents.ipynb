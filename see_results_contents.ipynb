{
 "cells": [
  {
   "cell_type": "code",
   "execution_count": 1,
   "metadata": {},
   "outputs": [],
   "source": [
    "%matplotlib widget\n",
    "import numpy as np\n",
    "import matplotlib.pyplot as plt\n",
    "import matplotlib\n",
    "import os\n",
    "from pprint import pprint\n",
    "from matplotlib.lines import Line2D\n",
    "from glob import glob \n",
    "import sys\n",
    "\n",
    "from scipy.special import comb\n",
    "from sklearn.decomposition import PCA\n",
    "\n",
    "def plot_input_spikes(in_spikes, start_t, total_t, dt=1.0, img_shape=(28, 28), in_divs=(5, 3)):\n",
    "    for lyr in sorted(in_spikes.keys()):\n",
    "        s1 = in_spikes[lyr]\n",
    "        w, h = img_shape if lyr < 2 else ((img_shape[0]//in_divs[0])+1, (img_shape[1]//in_divs[1])+1)\n",
    "        num_images = int(np.ceil(total_t/float(dt)))\n",
    "        imgs = [np.zeros((h, w)) for _ in range(num_images)]\n",
    "        for idx, times in enumerate(s1):\n",
    "            for t in sorted(times):\n",
    "                r, c = int(idx//w), int(idx%w)\n",
    "                if t < start_t or t>=start_t+total_t:\n",
    "                    continue\n",
    "                img_idx = int((t - start_t) // dt)\n",
    "                if img_idx > num_images:\n",
    "                    continue\n",
    "                imgs[img_idx][r, c] += 1.0\n",
    "        fw = 2\n",
    "        plt.figure(figsize=(total_t*fw, fw))\n",
    "        for idx, img in enumerate(imgs):\n",
    "            ax = plt.subplot(1, total_t, idx+1)\n",
    "            plt.imshow(img)\n",
    "        plt.show()\n",
    "        "
   ]
  },
  {
   "cell_type": "code",
   "execution_count": 2,
   "metadata": {},
   "outputs": [
    {
     "ename": "IOError",
     "evalue": "[Errno 2] No such file or directory: './L2L-OMNIGLOT/run_results/data_gen0_ind0.npz'",
     "output_type": "error",
     "traceback": [
      "\u001b[0;31m---------------------------------------------------------------------------\u001b[0m\n\u001b[0;31mIOError\u001b[0m                                   Traceback (most recent call last)",
      "\u001b[0;32m<ipython-input-2-d20f9b4c2a44>\u001b[0m in \u001b[0;36m<module>\u001b[0;34m()\u001b[0m\n\u001b[1;32m      1\u001b[0m \u001b[0mbase_dir\u001b[0m \u001b[0;34m=\u001b[0m \u001b[0;34m'./L2L-OMNIGLOT/run_results/'\u001b[0m\u001b[0;34m\u001b[0m\u001b[0m\n\u001b[1;32m      2\u001b[0m \u001b[0mfname\u001b[0m \u001b[0;34m=\u001b[0m \u001b[0mos\u001b[0m\u001b[0;34m.\u001b[0m\u001b[0mpath\u001b[0m\u001b[0;34m.\u001b[0m\u001b[0mjoin\u001b[0m\u001b[0;34m(\u001b[0m\u001b[0mbase_dir\u001b[0m\u001b[0;34m,\u001b[0m \u001b[0;34m'data_gen0_ind0.npz'\u001b[0m\u001b[0;34m)\u001b[0m\u001b[0;34m\u001b[0m\u001b[0m\n\u001b[0;32m----> 3\u001b[0;31m \u001b[0mdata\u001b[0m \u001b[0;34m=\u001b[0m \u001b[0mnp\u001b[0m\u001b[0;34m.\u001b[0m\u001b[0mload\u001b[0m\u001b[0;34m(\u001b[0m\u001b[0mfname\u001b[0m\u001b[0;34m)\u001b[0m\u001b[0;34m\u001b[0m\u001b[0m\n\u001b[0m",
      "\u001b[0;32m/usr/lib/python2.7/dist-packages/numpy/lib/npyio.pyc\u001b[0m in \u001b[0;36mload\u001b[0;34m(file, mmap_mode, allow_pickle, fix_imports, encoding)\u001b[0m\n\u001b[1;32m    360\u001b[0m     \u001b[0mown_fid\u001b[0m \u001b[0;34m=\u001b[0m \u001b[0mFalse\u001b[0m\u001b[0;34m\u001b[0m\u001b[0m\n\u001b[1;32m    361\u001b[0m     \u001b[0;32mif\u001b[0m \u001b[0misinstance\u001b[0m\u001b[0;34m(\u001b[0m\u001b[0mfile\u001b[0m\u001b[0;34m,\u001b[0m \u001b[0mbasestring\u001b[0m\u001b[0;34m)\u001b[0m\u001b[0;34m:\u001b[0m\u001b[0;34m\u001b[0m\u001b[0m\n\u001b[0;32m--> 362\u001b[0;31m         \u001b[0mfid\u001b[0m \u001b[0;34m=\u001b[0m \u001b[0mopen\u001b[0m\u001b[0;34m(\u001b[0m\u001b[0mfile\u001b[0m\u001b[0;34m,\u001b[0m \u001b[0;34m\"rb\"\u001b[0m\u001b[0;34m)\u001b[0m\u001b[0;34m\u001b[0m\u001b[0m\n\u001b[0m\u001b[1;32m    363\u001b[0m         \u001b[0mown_fid\u001b[0m \u001b[0;34m=\u001b[0m \u001b[0mTrue\u001b[0m\u001b[0;34m\u001b[0m\u001b[0m\n\u001b[1;32m    364\u001b[0m     \u001b[0;32melse\u001b[0m\u001b[0;34m:\u001b[0m\u001b[0;34m\u001b[0m\u001b[0m\n",
      "\u001b[0;31mIOError\u001b[0m: [Errno 2] No such file or directory: './L2L-OMNIGLOT/run_results/data_gen0_ind0.npz'"
     ]
    }
   ],
   "source": [
    "base_dir = './L2L-OMNIGLOT/run_results/'\n",
    "fname = os.path.join(base_dir, 'data_gen0_ind0.npz')\n",
    "data = np.load(fname)"
   ]
  },
  {
   "cell_type": "code",
   "execution_count": null,
   "metadata": {},
   "outputs": [],
   "source": [
    "2.0*np.pi"
   ]
  },
  {
   "cell_type": "code",
   "execution_count": 2,
   "metadata": {},
   "outputs": [
    {
     "data": {
      "application/vnd.jupyter.widget-view+json": {
       "model_id": "",
       "version_major": 2,
       "version_minor": 0
      },
      "text/plain": [
       "Canvas(toolbar=Toolbar(toolitems=[('Home', 'Reset original view', 'home', 'home'), ('Back', 'Back to previous …"
      ]
     },
     "metadata": {},
     "output_type": "display_data"
    },
    {
     "data": {
      "application/vnd.jupyter.widget-view+json": {
       "model_id": "",
       "version_major": 2,
       "version_minor": 0
      },
      "text/plain": [
       "Canvas(toolbar=Toolbar(toolitems=[('Home', 'Reset original view', 'home', 'home'), ('Back', 'Back to previous …"
      ]
     },
     "metadata": {},
     "output_type": "display_data"
    }
   ],
   "source": [
    "### variables\n",
    "# learning rate, mean, deviation, LTD threshold\n",
    "params = {\n",
    "    \"A_plus\": 0.1,\n",
    "    \"A_minus\": 0.001,\n",
    "    \"mean\": 0.0,\n",
    "    \"std\": 1.0,\n",
    "    \"displace\": 0.01,\n",
    "    \"maxDt\": 50.0,\n",
    "}\n",
    "rate = params['A_plus']\n",
    "m = params['mean']\n",
    "std = params['std']\n",
    "var = (std)**2\n",
    "neg_thr = params['displace']\n",
    "x = np.arange(-params['maxDt'], params['maxDt'], 0.1)\n",
    "y = rate * ((1./(np.sqrt(2.0 * np.pi) * std)) * np.exp((-(x - m)**2)/(var)) - neg_thr) #- params['A_minus']\n",
    "\n",
    "plt.figure()\n",
    "ax = plt.subplot(1, 1, 1)\n",
    "plt.axvline(0, color='gray', linewidth=1)\n",
    "plt.axhline(0, color='gray', linewidth=1)\n",
    "plt.plot(x, y)\n",
    "\n",
    "x = np.arange(-10.0, 10.0, 0.1)\n",
    "y = rate * ((1./(np.sqrt(2.0 * np.pi) * std)) * np.exp((-(x - m)**2)/(var)) - neg_thr) #- params['A_minus']\n",
    "ax.spines['top'].set_visible(False)\n",
    "ax.spines['right'].set_visible(False)\n",
    "plt.savefig(\"learning_rule_full.svg\")\n",
    "\n",
    "plt.figure()\n",
    "ax = plt.subplot(1, 1, 1)\n",
    "plt.axvline(0, color='gray', linewidth=1)\n",
    "plt.axhline(0, color='gray', linewidth=1)\n",
    "plt.plot(x, y)\n",
    "ax.spines['top'].set_visible(False)\n",
    "ax.spines['right'].set_visible(False)\n",
    "plt.savefig(\"learning_rule_zoom.svg\")\n",
    "\n",
    "plt.show()"
   ]
  },
  {
   "cell_type": "code",
   "execution_count": 4,
   "metadata": {},
   "outputs": [
    {
     "name": "stdout",
     "output_type": "stream",
     "text": [
      "0.0\n"
     ]
    },
    {
     "data": {
      "image/png": "[encoded data removed]",
      "text/plain": [
       "<Figure size 600x400 with 1 Axes>"
      ]
     },
     "metadata": {},
     "output_type": "display_data"
    },
    {
     "data": {
      "image/png": "[encoded data removed]",
      "text/plain": [
       "<Figure size 600x400 with 1 Axes>"
      ]
     },
     "metadata": {},
     "output_type": "display_data"
    }
   ],
   "source": [
    "### variables\n",
    "# learning rate, mean, deviation, LTD threshold\n",
    "params = {\n",
    "    \"A_plus\": 10.0,\n",
    "    \"A_minus\": 0.001,\n",
    "    \"mean\": 0.0,\n",
    "    \"std\": 2.0,\n",
    "    \"displace\": 0.0025,\n",
    "    \"maxDt\": 50.0,\n",
    "    \"mult\": 3.0,\n",
    "}\n",
    "rate = params['A_plus']\n",
    "m = params['mean']\n",
    "std = params['std']\n",
    "var = (std)**2\n",
    "varm = (params['mult']*std)**2\n",
    "neg_thr = params['displace']\n",
    "x = np.arange(-params['maxDt'], params['maxDt'], 0.1)\n",
    "yp = (1./(2.0 * np.pi * std)) * np.exp((-(x - m)**2)/(var)) #- neg_thr #- params['A_minus']\n",
    "ym = (1./(2.0 * np.pi * std * params['mult'])) * np.exp((-(x - m)**2)/(varm))# - neg_thr #- params['A_minus']\n",
    "y = rate * (yp - ym - neg_thr)\n",
    "print(np.sum(yp - ym))\n",
    "\n",
    "plt.figure()\n",
    "ax = plt.subplot(1, 1, 1)\n",
    "plt.axvline(0, color='gray', linewidth=1)\n",
    "plt.axhline(0, color='gray', linewidth=1)\n",
    "plt.plot(x, y)\n",
    "\n",
    "x = np.arange(-20.0, 20.0, 0.1)\n",
    "yp = (1./(2.0 * np.pi * std)) * np.exp((-(x - m)**2)/(var)) #- neg_thr #- params['A_minus']\n",
    "ym = (1./(2.0 * np.pi * std * params['mult'])) * np.exp((-(x - m)**2)/(varm))# - neg_thr #- params['A_minus']\n",
    "y = rate * (yp - ym - neg_thr)\n",
    "\n",
    "plt.figure()\n",
    "ax = plt.subplot(1, 1, 1)\n",
    "plt.axvline(0, color='gray', linewidth=1)\n",
    "plt.axhline(0, color='gray', linewidth=1)\n",
    "plt.plot(x, y)\n",
    "\n",
    "\n",
    "plt.show()"
   ]
  },
  {
   "cell_type": "code",
   "execution_count": 4,
   "metadata": {},
   "outputs": [],
   "source": []
  },
  {
   "cell_type": "code",
   "execution_count": 23,
   "metadata": {},
   "outputs": [
    {
     "name": "stdout",
     "output_type": "stream",
     "text": [
      "set([1264, 1986, 1603, 1989, 1770, 1871, 1936, 1202, 1477, 1205, 1434, 1311, 1701])\n",
      "13\n"
     ]
    },
    {
     "data": {
      "image/png": "[encoded data removed]",
      "text/plain": [
       "<Figure size 600x400 with 1 Axes>"
      ]
     },
     "metadata": {},
     "output_type": "display_data"
    }
   ],
   "source": [
    "ndivs = 13\n",
    "dang = (2.0 * np.pi) / ndivs\n",
    "angles = np.arange(0.0, 2.0 * np.pi, dang)\n",
    "radii = [7]#, 11, 17, 23, 31]\n",
    "inw, inh = 56, 56\n",
    "cr, cc = inh//2, inw//2\n",
    "inf_r = 7\n",
    "\n",
    "\n",
    "centers_i = set()\n",
    "for r in radii:\n",
    "    for a in angles:\n",
    "        col = cc + int(np.round(r * np.cos(a))) \n",
    "        row = cr + int(np.round(r * np.sin(a))) \n",
    "        centers_i.add(row*inw + col)\n",
    "print(centers_i)\n",
    "centers_i_a = np.asarray(list(centers_i))\n",
    "centers_r = centers_i_a // inw\n",
    "centers_c = centers_i_a % inw\n",
    "\n",
    "\n",
    "n_centers = len(centers_r)\n",
    "print(n_centers)\n",
    "\n",
    "gr = matplotlib.cm.rainbow\n",
    "gr = matplotlib.cm.nipy_spectral\n",
    "cmap_dc = gr.N//(n_centers + 1)\n",
    "cmap = np.array([gr(i*cmap_dc) for i in range(n_centers+1)] )\n",
    "cmap[:, 3] = 0.3\n",
    "\n",
    "\n",
    "zones = {}\n",
    "for zone_idx in range(n_centers):\n",
    "    ir, ic = centers_r[zone_idx], centers_c[zone_idx]\n",
    "    coords = zones.get(zone_idx, {'r': [], 'c': []})\n",
    "    for dc in range(-inf_r, inf_r+1):\n",
    "        for dr in range(-inf_r, inf_r+1):\n",
    "            d = np.sqrt(dc**2 + dr**2)\n",
    "            if d > inf_r:\n",
    "                continue\n",
    "\n",
    "            coords['r'].append(ir + dr)\n",
    "            coords['c'].append(ic + dc)\n",
    "                \n",
    "    zones[zone_idx] = coords\n",
    "\n",
    "\n",
    "fig = plt.figure()\n",
    "ax = plt.subplot(1, 1, 1)\n",
    "ax.set_aspect('equal')\n",
    "plt.axvline(cc, color='gray', linewidth=1.0)\n",
    "plt.axhline(cr, color='gray', linewidth=1.0)\n",
    "for idx in zones:\n",
    "    plt.plot(zones[idx]['c'], zones[idx]['r'], '.', color=cmap[idx])\n",
    "\n",
    "ax.set_xlim(0, inw)\n",
    "ax.set_ylim(0, inh)\n",
    "plt.show()"
   ]
  },
  {
   "cell_type": "code",
   "execution_count": 23,
   "metadata": {},
   "outputs": [],
   "source": []
  },
  {
   "cell_type": "code",
   "execution_count": 24,
   "metadata": {},
   "outputs": [
    {
     "name": "stdout",
     "output_type": "stream",
     "text": [
      "['recs', 'params', 'input', 'weights']\n"
     ]
    }
   ],
   "source": [
    "keys = data.keys()\n",
    "print(keys)\n",
    "# for k in keys:\n",
    "#     print(k)\n",
    "#     print(type(k))\n",
    "#     print(data[k])"
   ]
  },
  {
   "cell_type": "code",
   "execution_count": 25,
   "metadata": {},
   "outputs": [
    {
     "ename": "BadZipfile",
     "evalue": "Truncated file header",
     "output_type": "error",
     "traceback": [
      "\u001b[0;31m---------------------------------------------------------------------------\u001b[0m\n\u001b[0;31mBadZipfile\u001b[0m                                Traceback (most recent call last)",
      "\u001b[0;32m<ipython-input-25-e19ff5082071>\u001b[0m in \u001b[0;36m<module>\u001b[0;34m()\u001b[0m\n\u001b[0;32m----> 1\u001b[0;31m \u001b[0min_labels\u001b[0m \u001b[0;34m=\u001b[0m \u001b[0mdata\u001b[0m\u001b[0;34m[\u001b[0m\u001b[0;34m'input'\u001b[0m\u001b[0;34m]\u001b[0m\u001b[0;34m.\u001b[0m\u001b[0mitem\u001b[0m\u001b[0;34m(\u001b[0m\u001b[0;34m)\u001b[0m\u001b[0;34m[\u001b[0m\u001b[0;34m'labels'\u001b[0m\u001b[0;34m]\u001b[0m\u001b[0;34m\u001b[0m\u001b[0m\n\u001b[0m\u001b[1;32m      2\u001b[0m \u001b[0;32mprint\u001b[0m\u001b[0;34m(\u001b[0m\u001b[0min_labels\u001b[0m\u001b[0;34m)\u001b[0m\u001b[0;34m\u001b[0m\u001b[0m\n",
      "\u001b[0;32m/usr/lib/python2.7/dist-packages/numpy/lib/npyio.pyc\u001b[0m in \u001b[0;36m__getitem__\u001b[0;34m(self, key)\u001b[0m\n\u001b[1;32m    215\u001b[0m             \u001b[0mkey\u001b[0m \u001b[0;34m+=\u001b[0m \u001b[0;34m'.npy'\u001b[0m\u001b[0;34m\u001b[0m\u001b[0m\n\u001b[1;32m    216\u001b[0m         \u001b[0;32mif\u001b[0m \u001b[0mmember\u001b[0m\u001b[0;34m:\u001b[0m\u001b[0;34m\u001b[0m\u001b[0m\n\u001b[0;32m--> 217\u001b[0;31m             \u001b[0mbytes\u001b[0m \u001b[0;34m=\u001b[0m \u001b[0mself\u001b[0m\u001b[0;34m.\u001b[0m\u001b[0mzip\u001b[0m\u001b[0;34m.\u001b[0m\u001b[0mopen\u001b[0m\u001b[0;34m(\u001b[0m\u001b[0mkey\u001b[0m\u001b[0;34m)\u001b[0m\u001b[0;34m\u001b[0m\u001b[0m\n\u001b[0m\u001b[1;32m    218\u001b[0m             \u001b[0mmagic\u001b[0m \u001b[0;34m=\u001b[0m \u001b[0mbytes\u001b[0m\u001b[0;34m.\u001b[0m\u001b[0mread\u001b[0m\u001b[0;34m(\u001b[0m\u001b[0mlen\u001b[0m\u001b[0;34m(\u001b[0m\u001b[0mformat\u001b[0m\u001b[0;34m.\u001b[0m\u001b[0mMAGIC_PREFIX\u001b[0m\u001b[0;34m)\u001b[0m\u001b[0;34m)\u001b[0m\u001b[0;34m\u001b[0m\u001b[0m\n\u001b[1;32m    219\u001b[0m             \u001b[0mbytes\u001b[0m\u001b[0;34m.\u001b[0m\u001b[0mclose\u001b[0m\u001b[0;34m(\u001b[0m\u001b[0;34m)\u001b[0m\u001b[0;34m\u001b[0m\u001b[0m\n",
      "\u001b[0;32m/usr/lib/python2.7/zipfile.pyc\u001b[0m in \u001b[0;36mopen\u001b[0;34m(self, name, mode, pwd)\u001b[0m\n\u001b[1;32m    966\u001b[0m             \u001b[0mfheader\u001b[0m \u001b[0;34m=\u001b[0m \u001b[0mzef_file\u001b[0m\u001b[0;34m.\u001b[0m\u001b[0mread\u001b[0m\u001b[0;34m(\u001b[0m\u001b[0msizeFileHeader\u001b[0m\u001b[0;34m)\u001b[0m\u001b[0;34m\u001b[0m\u001b[0m\n\u001b[1;32m    967\u001b[0m             \u001b[0;32mif\u001b[0m \u001b[0mlen\u001b[0m\u001b[0;34m(\u001b[0m\u001b[0mfheader\u001b[0m\u001b[0;34m)\u001b[0m \u001b[0;34m!=\u001b[0m \u001b[0msizeFileHeader\u001b[0m\u001b[0;34m:\u001b[0m\u001b[0;34m\u001b[0m\u001b[0m\n\u001b[0;32m--> 968\u001b[0;31m                 \u001b[0;32mraise\u001b[0m \u001b[0mBadZipfile\u001b[0m\u001b[0;34m(\u001b[0m\u001b[0;34m\"Truncated file header\"\u001b[0m\u001b[0;34m)\u001b[0m\u001b[0;34m\u001b[0m\u001b[0m\n\u001b[0m\u001b[1;32m    969\u001b[0m             \u001b[0mfheader\u001b[0m \u001b[0;34m=\u001b[0m \u001b[0mstruct\u001b[0m\u001b[0;34m.\u001b[0m\u001b[0munpack\u001b[0m\u001b[0;34m(\u001b[0m\u001b[0mstructFileHeader\u001b[0m\u001b[0;34m,\u001b[0m \u001b[0mfheader\u001b[0m\u001b[0;34m)\u001b[0m\u001b[0;34m\u001b[0m\u001b[0m\n\u001b[1;32m    970\u001b[0m             \u001b[0;32mif\u001b[0m \u001b[0mfheader\u001b[0m\u001b[0;34m[\u001b[0m\u001b[0m_FH_SIGNATURE\u001b[0m\u001b[0;34m]\u001b[0m \u001b[0;34m!=\u001b[0m \u001b[0mstringFileHeader\u001b[0m\u001b[0;34m:\u001b[0m\u001b[0;34m\u001b[0m\u001b[0m\n",
      "\u001b[0;31mBadZipfile\u001b[0m: Truncated file header"
     ]
    }
   ],
   "source": [
    "in_labels = data['input'].item()['labels']\n",
    "print(in_labels)"
   ]
  },
  {
   "cell_type": "code",
   "execution_count": 121,
   "metadata": {},
   "outputs": [
    {
     "data": {
      "image/png": "[encoded data removed]",
      "text/plain": [
       "<Figure size 1440x720 with 1 Axes>"
      ]
     },
     "metadata": {
      "needs_background": "light"
     },
     "output_type": "display_data"
    },
    {
     "data": {
      "image/png": "[encoded data removed]",
      "text/plain": [
       "<Figure size 1440x144 with 10 Axes>"
      ]
     },
     "metadata": {
      "needs_background": "light"
     },
     "output_type": "display_data"
    },
    {
     "data": {
      "image/png": "[encoded data removed]",
      "text/plain": [
       "<Figure size 1440x144 with 10 Axes>"
      ]
     },
     "metadata": {
      "needs_background": "light"
     },
     "output_type": "display_data"
    },
    {
     "data": {
      "image/png": "[encoded data removed]",
      "text/plain": [
       "<Figure size 1440x144 with 10 Axes>"
      ]
     },
     "metadata": {
      "needs_background": "light"
     },
     "output_type": "display_data"
    },
    {
     "data": {
      "image/png": "[encoded data removed]",
      "text/plain": [
       "<Figure size 1440x144 with 10 Axes>"
      ]
     },
     "metadata": {
      "needs_background": "light"
     },
     "output_type": "display_data"
    }
   ],
   "source": [
    "data = np.load('./L2L-OMNIGLOT/run_results/data_gen0_ind0.npz', allow_pickle=True)\n",
    "in_shape = data['params'].item()['sim']['input_shape']\n",
    "in_divs = data['params'].item()['sim']['input_divs']\n",
    "in_spikes = data['input'].item()['spikes']\n",
    "in_labels = data['input'].item()['labels']\n",
    "dt = data['params'].item()['sim']['sample_dt']\n",
    "count = 0\n",
    "start_t = 1400\n",
    "end_t = 1800\n",
    "start_t = 0\n",
    "end_t = 200\n",
    "start_idx = start_t // dt\n",
    "end_idx = end_t // dt\n",
    "plt.figure(figsize=(20, 10))\n",
    "\n",
    "for lyr in in_spikes:\n",
    "    spk = in_spikes[lyr]\n",
    "    for nid, times in enumerate(spk):\n",
    "        if len(times):\n",
    "            for t in times:\n",
    "                if start_t <= t < end_t:\n",
    "                    plt.plot(t, nid + count, '.b', markersize=3)\n",
    "    count += len(spk)\n",
    "    plt.axhline(count, color='gray', linestyle='--', linewidth=1.)\n",
    "\n",
    "for t in np.arange(start_t, end_t, dt):\n",
    "    try:\n",
    "        plt.text(t, count, \"%s\"%in_labels[int(t//dt)])\n",
    "    except:\n",
    "        pass\n",
    "    \n",
    "plt.show()\n",
    "\n",
    "plot_input_spikes(in_spikes, 0, 10, img_shape=in_shape, in_divs=in_divs)\n",
    "# plot_input_spikes(in_spikes, 1450, 5, img_shape=in_shape, in_divs=in_divs)\n",
    "# plot_input_spikes(in_spikes, 1500, 5, img_shape=in_shape, in_divs=in_divs)\n",
    "# plot_input_spikes(in_spikes, 1550, 5, img_shape=in_shape, in_divs=in_divs)\n",
    "# plot_input_spikes(in_spikes, 1600, 5, img_shape=in_shape, in_divs=in_divs)"
   ]
  },
  {
   "cell_type": "markdown",
   "metadata": {},
   "source": [
    " "
   ]
  },
  {
   "cell_type": "markdown",
   "metadata": {},
   "source": [
    "PCA reduction \n",
    "---"
   ]
  },
  {
   "cell_type": "code",
   "execution_count": 4,
   "metadata": {},
   "outputs": [
    {
     "name": "stdout",
     "output_type": "stream",
     "text": [
      "{'mushroom_weight': [], 'out_prob': [], 'out_weight': [], 'expand': [], 'conn_dist': [], 'A_plus': [], 'A_minus': [], 'exp_prob': [], 'w_min_mult': []}\n",
      "(958, 10)\n",
      "(958, 3)\n"
     ]
    }
   ],
   "source": [
    "# result_files = sorted(glob('./L2L-OMNIGLOT/run_results/*.npz'))\n",
    "result_files = sorted(glob('/home/gp283/titan/run_results/*.npz'))\n",
    "tmp = np.load(result_files[0], allow_pickle=True)\n",
    "data = {}\n",
    "for k in tmp:\n",
    "    try:\n",
    "        data[k] = tmp[k].item()\n",
    "    except:\n",
    "        data[k] = tmp[k]\n",
    "# print( list(all_individuals[0]['params']['ind'].keys()) )\n",
    "all_params = {k: [] for k in data['params']['ind'].keys() \\\n",
    "                      if not (k == 'w_max_mult')}\n",
    "\n",
    "print(all_params)\n",
    "fits = []\n",
    "for rf in result_files[:]:\n",
    "    try:\n",
    "        tmp = np.load(rf, allow_pickle=True)\n",
    "        data = {}\n",
    "        for k in tmp:\n",
    "            try:\n",
    "                data[k] = tmp[k].item()\n",
    "            except:\n",
    "                data[k] = tmp[k]\n",
    "    except:\n",
    "        continue\n",
    "\n",
    "    try:\n",
    "        for k in all_params:\n",
    "            all_params[k].append( data['params']['ind'][k] )\n",
    "    except:\n",
    "        del all_params[k]\n",
    "        continue\n",
    "\n",
    "    fit0 = 0.2 * data['analysis']['aggregate_per_class']['overlap_dist'] + \\\n",
    "           0.5 * data['analysis']['aggregate_per_class']['euc_dist'] + \\\n",
    "           0.2 * data['analysis']['aggregate_per_class']['class_dist']\n",
    "    fit1 = data['analysis']['individual_per_class']['cos_dist']\n",
    "    _fit = (fit0 + 0.1*fit1)#/2.0#     fs = all_params.get('fitness', [])\n",
    "#     fs.append(_fit)\n",
    "#     all_params['fitness'] = fs\n",
    "    fits.append(_fit)\n",
    "    \n",
    "all_params['fit'] = fits\n",
    "mtx_params = np.asarray([all_params[k] for k in sorted(all_params.keys())]).T\n",
    "print(mtx_params.shape)\n",
    "pca = PCA(n_components=3)\n",
    "_params_pca = pca.fit_transform(mtx_params)\n",
    "# _params_pca = pca.transform(mtx_params)\n",
    "print(_params_pca.shape)\n",
    "\n"
   ]
  },
  {
   "cell_type": "code",
   "execution_count": 8,
   "metadata": {},
   "outputs": [
    {
     "data": {
      "application/vnd.jupyter.widget-view+json": {
       "model_id": "",
       "version_major": 2,
       "version_minor": 0
      },
      "text/plain": [
       "Canvas(toolbar=Toolbar(toolitems=[('Home', 'Reset original view', 'home', 'home'), ('Back', 'Back to previous …"
      ]
     },
     "metadata": {},
     "output_type": "display_data"
    }
   ],
   "source": [
    "from mpl_toolkits.mplot3d import Axes3D\n",
    "fig = plt.figure()\n",
    "ax = fig.add_subplot(111, projection='3d')\n",
    "im = ax.scatter(_params_pca[:, 0], _params_pca[:, 1], _params_pca[:, 2],\n",
    "                c=fits, \n",
    "                cmap='bwr_r',\n",
    "#                vmin=0.0, vmax=2.0\n",
    "                alpha=0.25\n",
    "               )\n",
    "cb = plt.colorbar(im)\n",
    "plt.show()"
   ]
  },
  {
   "cell_type": "markdown",
   "metadata": {},
   "source": [
    "Output overlap plot\n",
    "----"
   ]
  },
  {
   "cell_type": "code",
   "execution_count": 10,
   "metadata": {
    "scrolled": false
   },
   "outputs": [
    {
     "data": {
      "application/vnd.jupyter.widget-view+json": {
       "model_id": "",
       "version_major": 2,
       "version_minor": 0
      },
      "text/plain": [
       "Canvas(toolbar=Toolbar(toolitems=[('Home', 'Reset original view', 'home', 'home'), ('Back', 'Back to previous …"
      ]
     },
     "metadata": {},
     "output_type": "display_data"
    },
    {
     "name": "stdout",
     "output_type": "stream",
     "text": [
      "max_len 7 out of 280\n",
      "\n",
      "6.0 50 0.88\n"
     ]
    },
    {
     "data": {
      "application/vnd.jupyter.widget-view+json": {
       "model_id": "",
       "version_major": 2,
       "version_minor": 0
      },
      "text/plain": [
       "Canvas(toolbar=Toolbar(toolitems=[('Home', 'Reset original view', 'home', 'home'), ('Back', 'Back to previous …"
      ]
     },
     "metadata": {},
     "output_type": "display_data"
    },
    {
     "name": "stdout",
     "output_type": "stream",
     "text": [
      "max_len 6 out of 280\n",
      "\n",
      "4.0 48 0.9166666666666666\n"
     ]
    },
    {
     "data": {
      "application/vnd.jupyter.widget-view+json": {
       "model_id": "",
       "version_major": 2,
       "version_minor": 0
      },
      "text/plain": [
       "Canvas(toolbar=Toolbar(toolitems=[('Home', 'Reset original view', 'home', 'home'), ('Back', 'Back to previous …"
      ]
     },
     "metadata": {},
     "output_type": "display_data"
    },
    {
     "name": "stdout",
     "output_type": "stream",
     "text": [
      "max_len 16 out of 280\n",
      "\n",
      "7.0 52 0.8653846153846154\n"
     ]
    },
    {
     "data": {
      "application/vnd.jupyter.widget-view+json": {
       "model_id": "",
       "version_major": 2,
       "version_minor": 0
      },
      "text/plain": [
       "Canvas(toolbar=Toolbar(toolitems=[('Home', 'Reset original view', 'home', 'home'), ('Back', 'Back to previous …"
      ]
     },
     "metadata": {},
     "output_type": "display_data"
    },
    {
     "name": "stdout",
     "output_type": "stream",
     "text": [
      "max_len 3 out of 280\n",
      "\n",
      "0.0 12 1.0\n"
     ]
    },
    {
     "data": {
      "application/vnd.jupyter.widget-view+json": {
       "model_id": "",
       "version_major": 2,
       "version_minor": 0
      },
      "text/plain": [
       "Canvas(toolbar=Toolbar(toolitems=[('Home', 'Reset original view', 'home', 'home'), ('Back', 'Back to previous …"
      ]
     },
     "metadata": {},
     "output_type": "display_data"
    },
    {
     "name": "stdout",
     "output_type": "stream",
     "text": [
      "max_len 7 out of 280\n",
      "\n",
      "3.0 46 0.9347826086956522\n"
     ]
    }
   ],
   "source": [
    "# result_files = sorted(glob('./L2L-OMNIGLOT/run_results/*.npz'))\n",
    "# result_files = sorted(glob('./L2L-OMNIGLOT/almost_working_run_results/*.npz'))\n",
    "# result_files = sorted(glob('./L2L-OMNIGLOT/run_results_no_learn_many_class/*.npz'))\n",
    "result_files = sorted(glob('/home/gp283/titan/run_results/*.npz'))\n",
    "\n",
    "plt.close('all')\n",
    "for rf in result_files[-5:]:\n",
    "\n",
    "    try:\n",
    "        tmp = np.load(rf, allow_pickle=True)\n",
    "        data = {}\n",
    "        for k in tmp:\n",
    "            try:\n",
    "                data[k] = tmp[k].item()\n",
    "            except:\n",
    "                data[k] = tmp[k]\n",
    "    except:\n",
    "        continue\n",
    "    \n",
    "    n_class = data['params']['sim']['num_classes']\n",
    "    dw = int(np.sqrt(n_class))\n",
    "    dh = n_class // dw + int(n_class%dw > 0)\n",
    "    \n",
    "    vecs = data['analysis']['aggregate_per_class']['vectors']\n",
    "\n",
    "    out_size = len(vecs[0])\n",
    "    w = int(np.sqrt(out_size))\n",
    "    h = out_size // w + int(out_size%w > 0)\n",
    "    \n",
    "    fw = 1.0\n",
    "    fig = plt.figure(figsize=(w*fw, h*fw))\n",
    "\n",
    "    overlap = np.zeros(out_size)\n",
    "    for _class, v in enumerate(vecs):\n",
    "        overlap += v\n",
    "\n",
    "    overlap_len = np.sum(overlap > 0)\n",
    "    overlap[:] = overlap > 1\n",
    "    \n",
    "    max_len = -1\n",
    "    for _class, v in enumerate(vecs):\n",
    "        whr = np.where(v > 0)[0]\n",
    "        if len(whr) > max_len:\n",
    "            max_len = len(whr)\n",
    "\n",
    "        first_label = True\n",
    "        for idx, on in enumerate(v):\n",
    "\n",
    "                \n",
    "            if on > 0:\n",
    "                lbl = \"%s\"%(_class+1) if first_label else None\n",
    "                first_label = False\n",
    "                x, y = idx % w, idx // w\n",
    "                dx = 0.5 * (1./ dw) * ((_class % dw) - (0.5*dw))\n",
    "                dy = 0.5 * (1./ dh) * (-(_class // dw) + (0.5*dh))\n",
    "                \n",
    "                plt.plot(x+dx, y+dy, marker=r'$%s$'%(_class+1), label=lbl)\n",
    "\n",
    "    for x in np.arange(-0.5, w+0.5, 1.0):\n",
    "        plt.axvline(x, linewidth=1., color='gray')\n",
    "\n",
    "    for y in np.arange(-0.5, h+0.5, 1.0):\n",
    "        plt.axhline(y, linewidth=1., color='gray')\n",
    "    \n",
    "    plt.legend(bbox_to_anchor=(1., 1.025))\n",
    "    plt.savefig('output_overlap.pdf')\n",
    "    plt.show()\n",
    "    \n",
    "    print(\"max_len {} out of {}\\n\".format(max_len, out_size))\n",
    "#     print(overlap)\n",
    "    print(np.sum(overlap), overlap_len, 1.0 - np.sum(overlap)/overlap_len )\n",
    "#     reduced_v = "
   ]
  },
  {
   "cell_type": "markdown",
   "metadata": {},
   "source": [
    "histogram\n",
    "----"
   ]
  },
  {
   "cell_type": "code",
   "execution_count": 11,
   "metadata": {},
   "outputs": [
    {
     "name": "stdout",
     "output_type": "stream",
     "text": [
      "{'mushroom_weight': [], 'out_weight': [], 'expand': [], 'exp_prob': [], 'conn_dist': [], 'A_plus': [], 'A_minus': [], 'out_prob': [], 'w_min_mult': []}\n",
      "{}\n",
      "./L2L-OMNIGLOT/run_results/data_gen00000_ind00001.npz"
     ]
    },
    {
     "name": "stderr",
     "output_type": "stream",
     "text": [
      "/its/home/gp283/l2l-omniglot/venv3/lib/python3.5/site-packages/ipykernel_launcher.py:112: RuntimeWarning: invalid value encountered in true_divide\n",
      "/its/home/gp283/l2l-omniglot/venv3/lib/python3.5/site-packages/ipykernel_launcher.py:113: RuntimeWarning: invalid value encountered in true_divide\n"
     ]
    },
    {
     "name": "stdout",
     "output_type": "stream",
     "text": [
      "./L2L-OMNIGLOT/run_results/data_gen00008_ind00008.npz\n"
     ]
    }
   ],
   "source": [
    "result_files = sorted(glob('./L2L-OMNIGLOT/run_results/*.npz'))\n",
    "# result_files = sorted(glob('./L2L-OMNIGLOT/almost_working_run_results/*.npz'))\n",
    "# result_files = sorted(glob('../juelich/run_results/*.npz'))\n",
    "# result_files = sorted(glob('../titan/run_results/*.npz'))\n",
    "# result_files = sorted(glob('./L2L-OMNIGLOT/run_results_no_learn_many_class/*.npz'))\n",
    "# result_files = sorted(glob('./L2L-OMNIGLOT/run_results_behaviour/*.npz'))\n",
    "\n",
    "total_different = 1 #comb(14, 2)\n",
    "total_same = 4 * 14 * 0.1\n",
    "total = 1.1 #total_different + total_same\n",
    "\n",
    "tmp = np.load(result_files[0], allow_pickle=True)\n",
    "data = {}\n",
    "for k in tmp:\n",
    "    try:\n",
    "        data[k] = tmp[k].item()\n",
    "    except:\n",
    "        data[k] = tmp[k]\n",
    "# print( list(all_individuals[0]['params']['ind'].keys()) )\n",
    "all_params = {k: [] for k in data['params']['ind'].keys() \\\n",
    "                      if not (k == 'w_max_mult')}\n",
    "print(all_params)\n",
    "all_scores = []\n",
    "same_fit = {}\n",
    "agr_fit = {}\n",
    "fitnesses = {}\n",
    "agg_euc = {}\n",
    "agg_cos = {}\n",
    "agg_ovr = {}\n",
    "agg_rpr = {}\n",
    "ind_cos = {}\n",
    "distances = {}\n",
    "print(distances)\n",
    "sum_dist = {}\n",
    "for rf in result_files[:]:\n",
    "    sys.stdout.write(\"\\r{}\".format(rf))\n",
    "    sys.stdout.flush()\n",
    "    fn = os.path.basename(rf)\n",
    "    fns = (fn.split('.')[0]).split('_')\n",
    "    gen = int( fns[1].split('gen')[-1] )\n",
    "    ind = int( fns[2].split('ind')[-1] )\n",
    "    try:\n",
    "        tmp = np.load(rf, allow_pickle=True)\n",
    "        data = {}\n",
    "        for k in tmp:\n",
    "            try:\n",
    "                data[k] = tmp[k].item()\n",
    "            except:\n",
    "                data[k] = tmp[k]\n",
    "    except:\n",
    "        print(\"Unable to open {}\".format(rf))\n",
    "        continue\n",
    "\n",
    "    try:\n",
    "        for k in all_params:\n",
    "            all_params[k].append( data['params']['ind'][k] )\n",
    "    except:\n",
    "        del all_params[k]\n",
    "        continue\n",
    "    \n",
    "    ag = data['analysis']['aggregate_per_class']['euc_dist']\n",
    "    cg = data['analysis']['aggregate_per_class']['cos_dist']\n",
    "    og = data['analysis']['aggregate_per_class']['overlap_dist']\n",
    "    ig = data['analysis']['individual_per_class']['fitness']\n",
    "    rg = data['analysis']['aggregate_per_class']['class_dist']\n",
    "    \n",
    "    fit0 = 0.2 * data['analysis']['aggregate_per_class']['overlap_dist'] + \\\n",
    "           0.5 * data['analysis']['aggregate_per_class']['euc_dist'] + \\\n",
    "           0.2 * data['analysis']['aggregate_per_class']['class_dist']\n",
    "    fit1 = data['analysis']['individual_per_class']['cos_dist']\n",
    "    _fit = (fit0 + 0.1*fit1)#/2.0\n",
    "    all_scores.append(_fit)\n",
    "\n",
    "    d = agg_rpr.get(gen, [])\n",
    "    d.append(rg)\n",
    "    agg_rpr[gen] = d\n",
    "\n",
    "    d = agg_euc.get(gen, [])\n",
    "    d.append(ag)\n",
    "    agg_euc[gen] = d\n",
    "\n",
    "    d = agg_cos.get(gen, [])\n",
    "    d.append(cg)\n",
    "    agg_cos[gen] = d\n",
    "    \n",
    "    d = agg_ovr.get(gen, [])\n",
    "    d.append(og)\n",
    "    agg_ovr[gen] = d\n",
    "    \n",
    "    d = ind_cos.get(gen, [])\n",
    "    d.append(ig)\n",
    "    ind_cos[gen] = d\n",
    "\n",
    "    d = agr_fit.get(gen, [])\n",
    "    d.append(cg)\n",
    "    agr_fit[gen] = d\n",
    "\n",
    "    d = same_fit.get(gen, [])\n",
    "    d.append(ig)\n",
    "    same_fit[gen] = d\n",
    "    \n",
    "    l = fitnesses.get(gen, [])\n",
    "    l.append(_fit)\n",
    "    \n",
    "    fitnesses[gen] = l\n",
    "    \n",
    "    diff_class_vectors = data['analysis']['aggregate_per_class']['vectors']\n",
    "    a = []\n",
    "    for ix, x in enumerate(diff_class_vectors):\n",
    "        for iy, y in enumerate(diff_class_vectors):\n",
    "            if iy > ix:\n",
    "                xnorm = x / np.sqrt(np.sum(x**2))\n",
    "                ynorm = y / np.sqrt(np.sum(y**2))\n",
    "                dot = np.sqrt(np.sum((xnorm - ynorm)**2)) / np.sqrt(2)\n",
    "                a.append(dot)\n",
    "    d = distances.get(gen, [])\n",
    "    d.append(np.mean(a))\n",
    "    distances[gen] = d\n",
    "\n",
    "    \n",
    "# distances[gen].append(0)\n",
    "# fitnesses[gen].append(0)\n",
    "\n",
    "print()\n",
    "n_bins = int( np.ceil(total  / 5.0) + 1)\n",
    "minimum = []\n",
    "maximum = []\n",
    "average = []\n",
    "for g in fitnesses:\n",
    "    minimum.append(np.min(fitnesses[g]))\n",
    "    maximum.append(np.max(fitnesses[g]))\n",
    "    average.append(np.mean(fitnesses[g]))\n",
    "\n",
    "# print(\"fitnesses {}\".format(fitnesses))\n",
    "# print(\"agg_euc {}\".format(agg_euc))\n",
    "# print(\"agg_cos {}\".format(agg_cos))\n",
    "# print(\"agg_ovr {}\".format(agg_ovr))\n",
    "# print(\"agg_rpr {}\".format(agg_rpr))\n",
    "# print(\"ind_cos {}\".format(ind_cos))"
   ]
  },
  {
   "cell_type": "code",
   "execution_count": 12,
   "metadata": {
    "scrolled": false
   },
   "outputs": [
    {
     "data": {
      "application/vnd.jupyter.widget-view+json": {
       "model_id": "6263f3f54d6845f484b7b651c507bd22",
       "version_major": 2,
       "version_minor": 0
      },
      "text/plain": [
       "Canvas(toolbar=Toolbar(toolitems=[('Home', 'Reset original view', 'home', 'home'), ('Back', 'Back to previous …"
      ]
     },
     "metadata": {},
     "output_type": "display_data"
    }
   ],
   "source": [
    "plt.close('all')\n",
    "n_ind = len(fitnesses[0])\n",
    "epochs = len(fitnesses)\n",
    "\n",
    "ncols = epochs if epochs < 3 else 3\n",
    "nrows =  epochs//ncols + int(epochs % ncols > 0)\n",
    "fw = 7\n",
    "n_bins = 25\n",
    "fig, axs = plt.subplots(nrows=nrows, ncols=ncols, \n",
    "                        figsize=(fw*ncols, fw*nrows*1.1), \n",
    "                        sharex=True, sharey=True\n",
    "                       )\n",
    "# print(axs)\n",
    "plt.suptitle(\"Fitness histogram per generation\\n\")\n",
    "for g in fitnesses:\n",
    "#     if len(fitnesses[g]) < n_ind:\n",
    "#         continue\n",
    "#     ax = plt.subplot(nrows, ncols, g+1, sharex=True, sharey=True)\n",
    "    if ncols == 1:\n",
    "        ax = axs\n",
    "    elif nrows == 1:\n",
    "        ax = axs[g%ncols]\n",
    "    else:\n",
    "        ax = axs[g//ncols][g%ncols]\n",
    "\n",
    "    ax.set_title(\"Gen %d   n_ind %d\"%(g+1, len(fitnesses[g])))\n",
    "    ax.set_xlim(0, 1.1)\n",
    "    n_bins = 20\n",
    "    ax.hist(fitnesses[g], bins=np.arange(n_bins)/float(n_bins))\n",
    "#     ax.set_xticks(np.arange(0, total+11, 10))\n",
    "    \n",
    "plt.tight_layout()\n",
    "plt.savefig(\"histogram_per_gen.pdf\")\n",
    "plt.show()"
   ]
  },
  {
   "cell_type": "code",
   "execution_count": 13,
   "metadata": {
    "scrolled": false
   },
   "outputs": [
    {
     "data": {
      "application/vnd.jupyter.widget-view+json": {
       "model_id": "69c3b0cd16e04cdeb6fec053869f58a5",
       "version_major": 2,
       "version_minor": 0
      },
      "text/plain": [
       "Canvas(toolbar=Toolbar(toolitems=[('Home', 'Reset original view', 'home', 'home'), ('Back', 'Back to previous …"
      ]
     },
     "metadata": {},
     "output_type": "display_data"
    }
   ],
   "source": [
    "# plt.close('all')\n",
    "fig, ax = plt.subplots(1, 1)\n",
    "# print(distances)\n",
    "# print(\"fitnesses {}\".format(fitnesses))\n",
    "# print(\"agg_euc {}\".format(agg_euc))\n",
    "# print(\"agg_cos {}\".format(agg_cos))\n",
    "# print(\"agg_ovr {}\".format(agg_ovr))\n",
    "# print(\"ind_cos {}\".format(ind_cos))\n",
    "# print(agr_fit)\n",
    "\n",
    "plt.axhline(0, color='gray', linewidth=0.5, linestyle='-')\n",
    "\n",
    "for g in distances:\n",
    "    plt.axvline(g, color='gray', linewidth=0.5, linestyle='-')\n",
    "    plt.axvline(g + 0.25, color='gray', linewidth=0.5, linestyle='-')\n",
    "    \n",
    "    l = None if g > 0 else \"Agg Euc\"\n",
    "    plt.plot(np.ones_like(agg_euc[g])*g, agg_euc[g], '.b', \n",
    "             label=l, markerfacecolor='none', alpha=0.5)\n",
    "\n",
    "    l = None if g > 0 else \"Agg Cos\"\n",
    "    plt.plot(np.ones_like(agg_cos[g])*(g+0.05), agg_cos[g], '.m', \n",
    "             label=l, markerfacecolor='none', alpha=0.5)\n",
    "    \n",
    "    l = None if g > 0 else \"Agg Ovr\"\n",
    "    plt.plot(np.ones_like(agg_ovr[g])*(g+0.1), agg_ovr[g], '.c', \n",
    "             label=l, markerfacecolor='none', alpha=0.5)\n",
    "    \n",
    "    l = None if g > 0 else \"Ind Cos\"\n",
    "    plt.plot(np.ones_like(ind_cos[g])*(g+0.15), ind_cos[g], '.g', \n",
    "             label=l, markerfacecolor='none', alpha=0.5)\n",
    "\n",
    "    l = None if g > 0 else \"Agg Repr\"\n",
    "    plt.plot(np.ones_like(agg_rpr[g])*(g+0.2), np.asarray(agg_rpr[g]), '.k', \n",
    "             label=l, markerfacecolor='none', alpha=0.5)\n",
    "\n",
    "    l = None if g > 0 else \"Fitness\"\n",
    "    plt.plot(np.ones_like(fitnesses[g])*(g+0.25), np.asarray(fitnesses[g]), '.r', \n",
    "             label=l, markerfacecolor='none', alpha=0.5)\n",
    "\n",
    "\n",
    "\n",
    "ax.set_xlim(-1, len(distances) + 1)\n",
    "ax.set_ylim(-0.1, 1.1)\n",
    "\n",
    "ax.set_xlabel(\"Generation\")\n",
    "plt.legend()\n",
    "plt.show()\n",
    "# plt.close()"
   ]
  },
  {
   "cell_type": "code",
   "execution_count": 14,
   "metadata": {},
   "outputs": [
    {
     "data": {
      "application/vnd.jupyter.widget-view+json": {
       "model_id": "06118a9cbeaa468f89b46965472f662c",
       "version_major": 2,
       "version_minor": 0
      },
      "text/plain": [
       "Canvas(toolbar=Toolbar(toolitems=[('Home', 'Reset original view', 'home', 'home'), ('Back', 'Back to previous …"
      ]
     },
     "metadata": {},
     "output_type": "display_data"
    }
   ],
   "source": [
    "fw = 8\n",
    "fig = plt.figure(figsize=(fw*np.sqrt(2), fw))\n",
    "ax = plt.subplot(1, 1, 1)\n",
    "\n",
    "\n",
    "\n",
    "for g in fitnesses:\n",
    "    plt.plot(g * np.ones_like(fitnesses[g]), fitnesses[g], '.b', alpha=0.1)\n",
    "\n",
    "plt.plot(np.asarray(maximum), '^', linestyle=':', label='max')\n",
    "plt.plot(np.asarray(average), 'o', linestyle='-', label='avg')\n",
    "plt.plot(np.asarray(minimum), 'v', linestyle='-.', label='min')\n",
    "\n",
    "plt.axhline(total, linestyle='--', color='magenta', linewidth=1)\n",
    "plt.axhline(total_different, linestyle='--', color='magenta', linewidth=0.5)\n",
    "plt.axhline(0, linestyle='--', color='gray', linewidth=1)\n",
    "ax.set_xlabel('generation')\n",
    "ax.set_ylabel('fitness')\n",
    "plt.legend(loc='upper left', bbox_to_anchor=(1.0, 1.025))\n",
    "plt.tight_layout()\n",
    "plt.savefig(\"fitness_per_generation.pdf\")\n",
    "plt.show()"
   ]
  },
  {
   "cell_type": "code",
   "execution_count": 175,
   "metadata": {},
   "outputs": [
    {
     "name": "stdout",
     "output_type": "stream",
     "text": [
      "Normalized distance\n",
      "nan\n",
      "nan\n",
      "Normalized fitness\n",
      "0.17700315715067688\n",
      "0.30657846128507077\n",
      "nan\n",
      "nan\n"
     ]
    }
   ],
   "source": [
    "print(\"Normalized distance\")\n",
    "print(np.mean(distances[0]))\n",
    "print(np.std(distances[0]))\n",
    "\n",
    "print(\"Normalized fitness\")\n",
    "print(np.mean(fitnesses[0]))\n",
    "print(np.std(fitnesses[0]))\n",
    "print( np.std(distances[0]) / np.std(fitnesses[0]) )\n",
    "print( np.std(fitnesses[0]) / np.std(distances[0]) )"
   ]
  },
  {
   "cell_type": "code",
   "execution_count": 176,
   "metadata": {},
   "outputs": [
    {
     "name": "stdout",
     "output_type": "stream",
     "text": [
      "\r",
      "./L2L-OMNIGLOT/run_results/data_gen00000_ind00000.npz"
     ]
    },
    {
     "ename": "KeyError",
     "evalue": "'mushroom'",
     "output_type": "error",
     "traceback": [
      "\u001b[0;31m---------------------------------------------------------------------------\u001b[0m",
      "\u001b[0;31mKeyError\u001b[0m                                  Traceback (most recent call last)",
      "\u001b[0;32m<ipython-input-176-9b668822ec1c>\u001b[0m in \u001b[0;36m<module>\u001b[0;34m\u001b[0m\n\u001b[1;32m     53\u001b[0m             \u001b[0mdata\u001b[0m\u001b[0;34m[\u001b[0m\u001b[0mk\u001b[0m\u001b[0;34m]\u001b[0m \u001b[0;34m=\u001b[0m \u001b[0mtmp\u001b[0m\u001b[0;34m[\u001b[0m\u001b[0mk\u001b[0m\u001b[0;34m]\u001b[0m\u001b[0;34m\u001b[0m\u001b[0m\n\u001b[1;32m     54\u001b[0m \u001b[0;34m\u001b[0m\u001b[0m\n\u001b[0;32m---> 55\u001b[0;31m     \u001b[0mmush_spikes\u001b[0m\u001b[0;34m[\u001b[0m\u001b[0;34m:\u001b[0m\u001b[0;34m]\u001b[0m \u001b[0;34m=\u001b[0m \u001b[0mdata\u001b[0m\u001b[0;34m[\u001b[0m\u001b[0;34m'recs'\u001b[0m\u001b[0;34m]\u001b[0m\u001b[0;34m[\u001b[0m\u001b[0;34m'mushroom'\u001b[0m\u001b[0;34m]\u001b[0m\u001b[0;34m[\u001b[0m\u001b[0;36m0\u001b[0m\u001b[0;34m]\u001b[0m\u001b[0;34m[\u001b[0m\u001b[0;34m'spikes'\u001b[0m\u001b[0;34m]\u001b[0m\u001b[0;34m\u001b[0m\u001b[0m\n\u001b[0m\u001b[1;32m     56\u001b[0m     \u001b[0mout_spikes\u001b[0m\u001b[0;34m[\u001b[0m\u001b[0;34m:\u001b[0m\u001b[0;34m]\u001b[0m \u001b[0;34m=\u001b[0m \u001b[0mdata\u001b[0m\u001b[0;34m[\u001b[0m\u001b[0;34m'recs'\u001b[0m\u001b[0;34m]\u001b[0m\u001b[0;34m[\u001b[0m\u001b[0;34m'output'\u001b[0m\u001b[0;34m]\u001b[0m\u001b[0;34m[\u001b[0m\u001b[0;36m0\u001b[0m\u001b[0;34m]\u001b[0m\u001b[0;34m[\u001b[0m\u001b[0;34m'spikes'\u001b[0m\u001b[0;34m]\u001b[0m\u001b[0;34m\u001b[0m\u001b[0m\n\u001b[1;32m     57\u001b[0m \u001b[0;34m\u001b[0m\u001b[0m\n",
      "\u001b[0;31mKeyError\u001b[0m: 'mushroom'"
     ]
    }
   ],
   "source": [
    "def clip_spikes(spikes, min_t, max_t):\n",
    "    clipped_spikes = [[] for _ in spikes]\n",
    "\n",
    "    for nid, ts in enumerate(spikes):\n",
    "        times = np.array(ts)\n",
    "        whr = np.where(np.logical_and(min_t <= times, times <= max_t))[0]\n",
    "        if len(whr):\n",
    "            clipped_spikes[nid][:] = times[whr].tolist()\n",
    "\n",
    "    return clipped_spikes\n",
    "\n",
    "    \n",
    "def split_per_dt(spikes, start_t, end_t, dt):\n",
    "    bin_edges = np.arange(start_t, end_t, dt)\n",
    "    spikes_dt = [[[] for _ in spikes] for _ in range(len(bin_edges))]\n",
    "    \n",
    "    for nid, ts in enumerate(spikes):\n",
    "        if len(ts):\n",
    "            binned_time_indices = np.digitize(np.array(ts), bin_edges)\n",
    "#             print(binned_time_indices)\n",
    "            for time_idx, bin_idx in enumerate(binned_time_indices):\n",
    "                spikes_dt[bin_idx-1][nid].append(ts[time_idx])\n",
    "        \n",
    "    return spikes_dt\n",
    "\n",
    "def count_active_per_dt(split_spikes):\n",
    "    count = []\n",
    "    for spikes in split_spikes:\n",
    "        count.append(np.sum([len(ts) for ts in spikes]))\n",
    "    return count\n",
    "\n",
    "\n",
    "result_files = sorted(glob('./L2L-OMNIGLOT/run_results/*.npz'))\n",
    "\n",
    "mush_counts = []\n",
    "out_counts = []\n",
    "split_mush = []\n",
    "count_mush = []\n",
    "split_out = []\n",
    "count_out = []\n",
    "mush_spikes = []\n",
    "out_spikes = []\n",
    "for rf in result_files[:]:\n",
    "    sys.stdout.write(\"\\r{}\".format(rf))\n",
    "    sys.stdout.flush()\n",
    "\n",
    "    tmp = np.load(rf, allow_pickle=True)\n",
    "    data = {}\n",
    "    for k in tmp:\n",
    "        try:\n",
    "            data[k] = tmp[k].item()\n",
    "        except:\n",
    "            data[k] = tmp[k]\n",
    "\n",
    "    mush_spikes[:] = data['recs']['mushroom'][0]['spikes']\n",
    "    out_spikes[:] = data['recs']['output'][0]['spikes']\n",
    "\n",
    "    n_class = data['params']['sim']['num_classes']\n",
    "    samp_dt = data['params']['sim']['sample_dt']\n",
    "    end_t = data['params']['sim']['duration']\n",
    "    n_test = data['params']['sim']['test_per_class']\n",
    "#     start_t = 0\n",
    "    start_t = end_t - n_class * n_test * samp_dt\n",
    "#     print(\"Clipping Kenyon spikes\")\n",
    "    clip_mush = clip_spikes(mush_spikes, start_t, end_t)\n",
    "# #     print(\"Splitting\")\n",
    "    split_mush = split_per_dt(clip_mush, start_t, end_t, samp_dt)\n",
    "# #     print(\"Counting\")\n",
    "    count_mush = count_active_per_dt(split_mush)\n",
    "    mush_counts.append(count_mush)\n",
    "    \n",
    "#     print(\"\\nClipping Output spikes\")\n",
    "    clip_out = clip_spikes(out_spikes, start_t, end_t)\n",
    "#     print(clip_out)\n",
    "#     print(\"Splitting\")\n",
    "    split_out = split_per_dt(clip_out, start_t, end_t, samp_dt)\n",
    "#     for ts in split_out:\n",
    "#         print(ts)\n",
    "    count_out = count_active_per_dt(split_out)\n",
    "    out_counts.append(count_out)\n",
    "\n"
   ]
  },
  {
   "cell_type": "code",
   "execution_count": 11,
   "metadata": {},
   "outputs": [
    {
     "data": {
      "application/vnd.jupyter.widget-view+json": {
       "model_id": "",
       "version_major": 2,
       "version_minor": 0
      },
      "text/plain": [
       "Canvas(toolbar=Toolbar(toolitems=[('Home', 'Reset original view', 'home', 'home'), ('Back', 'Back to previous …"
      ]
     },
     "metadata": {},
     "output_type": "display_data"
    }
   ],
   "source": [
    "mean_count_mush = [np.mean(sample) for sample in np.asarray(mush_counts).T]\n",
    "norm_count_mush = [sample - mean_count_mush[i] for i, sample in enumerate(np.asarray(mush_counts).T)]\n",
    "mean_norm_mush = np.asarray( [np.mean(run) for run in np.asarray(norm_count_mush).T] )\n",
    "dev_norm_mush = np.asarray( [np.std(run) for run in np.asarray(norm_count_mush).T] )\n",
    "\n",
    "fig, ax = plt.subplots(1, 1)\n",
    "\n",
    "plt.fill_between(np.arange(len(mean_norm_mush)),\n",
    "                 mean_norm_mush - dev_norm_mush,\n",
    "                 mean_norm_mush + dev_norm_mush,\n",
    "                alpha=0.5)\n",
    "plt.plot(np.asarray(norm_count_mush).T, '.b', alpha=0.25)\n",
    "plt.plot(mean_norm_mush, color='red', linewidth=3)\n",
    "ax.set_title('Rate statistics (centerd at mean) - Kenyon')\n",
    "ax.set_xlabel('Test number')\n",
    "ax.set_ylabel('Rate distribution')\n",
    "plt.savefig('rate_stats_kenyon.pdf')\n",
    "plt.show()"
   ]
  },
  {
   "cell_type": "code",
   "execution_count": 12,
   "metadata": {},
   "outputs": [
    {
     "data": {
      "application/vnd.jupyter.widget-view+json": {
       "model_id": "",
       "version_major": 2,
       "version_minor": 0
      },
      "text/plain": [
       "Canvas(toolbar=Toolbar(toolitems=[('Home', 'Reset original view', 'home', 'home'), ('Back', 'Back to previous …"
      ]
     },
     "metadata": {},
     "output_type": "display_data"
    }
   ],
   "source": [
    "mean_count_out = [np.mean(sample) for sample in np.asarray(out_counts).T]\n",
    "norm_count_out = [sample - mean_count_out[i] for i, sample in enumerate(np.asarray(out_counts).T)]\n",
    "mean_norm_out = np.asarray( [np.mean(run) for run in np.asarray(norm_count_out).T] )\n",
    "dev_norm_out = np.asarray( [np.std(run) for run in np.asarray(norm_count_out).T] )\n",
    "\n",
    "fig, ax = plt.subplots(1, 1)\n",
    "\n",
    "plt.fill_between(np.arange(len(mean_norm_out)),\n",
    "                 mean_norm_out - dev_norm_out,\n",
    "                 mean_norm_out + dev_norm_out,\n",
    "                alpha=0.5)\n",
    "plt.plot(np.asarray(norm_count_mush).T, '.b', alpha=0.25)\n",
    "plt.plot(mean_norm_mush, color='red', linewidth=3)\n",
    "ax.set_title('Rate statistics (centerd at mean) - Output')\n",
    "ax.set_xlabel('Test number')\n",
    "ax.set_ylabel('Rate distribution')\n",
    "plt.savefig('rate_stats_output.pdf')\n",
    "plt.show()"
   ]
  },
  {
   "cell_type": "code",
   "execution_count": 13,
   "metadata": {},
   "outputs": [
    {
     "name": "stdout",
     "output_type": "stream",
     "text": [
      "\n",
      "Plotting activity for Kenyon neurons\n"
     ]
    },
    {
     "data": {
      "application/vnd.jupyter.widget-view+json": {
       "model_id": "",
       "version_major": 2,
       "version_minor": 0
      },
      "text/plain": [
       "Canvas(toolbar=Toolbar(toolitems=[('Home', 'Reset original view', 'home', 'home'), ('Back', 'Back to previous …"
      ]
     },
     "metadata": {},
     "output_type": "display_data"
    },
    {
     "name": "stdout",
     "output_type": "stream",
     "text": [
      "\n",
      "Plotting activity for Output neurons\n"
     ]
    },
    {
     "data": {
      "application/vnd.jupyter.widget-view+json": {
       "model_id": "",
       "version_major": 2,
       "version_minor": 0
      },
      "text/plain": [
       "Canvas(toolbar=Toolbar(toolitems=[('Home', 'Reset original view', 'home', 'home'), ('Back', 'Back to previous …"
      ]
     },
     "metadata": {},
     "output_type": "display_data"
    }
   ],
   "source": [
    "sys.stdout.write(\"\\nPlotting activity for Kenyon neurons\\n\")\n",
    "sys.stdout.flush()\n",
    "fig = plt.figure()\n",
    "ax = plt.subplot(1,1,1)\n",
    "tmp = np.asarray(mush_counts)\n",
    "for i, c in enumerate(tmp.T):\n",
    "    plt.plot(c, '.', label=\"sample {}\".format(i+1))\n",
    "ax.set_title(\"Kenyon Neurons - spike counts per test\")\n",
    "ax.set_xlabel(\"Test number\")\n",
    "ax.set_ylabel(\"Rate\")\n",
    "ax.margins(1.1, 1.1)\n",
    "plt.savefig(\"kenyon-spikes-per-test-sample.pdf\")\n",
    "\n",
    "\n",
    "\n",
    "\n",
    "\n",
    "sys.stdout.write(\"\\nPlotting activity for Output neurons\\n\")\n",
    "sys.stdout.flush()\n",
    "fig = plt.figure()\n",
    "ax = plt.subplot(1,1,1)\n",
    "tmp = np.asarray(out_counts)\n",
    "for i, c in enumerate(tmp.T):\n",
    "    plt.plot(c, '.', label=\"sample {}\".format(i+1))\n",
    "ax.set_title(\"Output Neurons - spike counts per test\")\n",
    "ax.set_xlabel(\"Test number\")\n",
    "ax.set_ylabel(\"Rate\")\n",
    "# plt.legend()\n",
    "plt.savefig(\"output-spikes-per-test-sample.pdf\")\n",
    "\n",
    "\n",
    "plt.show()"
   ]
  },
  {
   "cell_type": "code",
   "execution_count": 14,
   "metadata": {},
   "outputs": [
    {
     "data": {
      "application/vnd.jupyter.widget-view+json": {
       "model_id": "",
       "version_major": 2,
       "version_minor": 0
      },
      "text/plain": [
       "Canvas(toolbar=Toolbar(toolitems=[('Home', 'Reset original view', 'home', 'home'), ('Back', 'Back to previous …"
      ]
     },
     "metadata": {},
     "output_type": "display_data"
    }
   ],
   "source": [
    "fw = 8\n",
    "fig = plt.figure(figsize=(fw*np.sqrt(2), fw))\n",
    "ax = plt.subplot(1, 1, 1)\n",
    "\n",
    "\n",
    "\n",
    "for g in fitnesses:\n",
    "    plt.plot(g * np.ones_like(fitnesses[g]), fitnesses[g], '.b', alpha=0.1)\n",
    "\n",
    "plt.plot(np.asarray(maximum), '^', linestyle=':', label='max')\n",
    "plt.plot(np.asarray(average), 'o', linestyle='-', label='avg')\n",
    "plt.plot(np.asarray(minimum), 'v', linestyle='-.', label='min')\n",
    "\n",
    "plt.axhline(total, linestyle='--', color='magenta', linewidth=1)\n",
    "plt.axhline(total_different, linestyle='--', color='magenta', linewidth=0.5)\n",
    "plt.axhline(0, linestyle='--', color='gray', linewidth=1)\n",
    "ax.set_xlabel('generation')\n",
    "ax.set_ylabel('fitness')\n",
    "plt.legend(loc='upper left', bbox_to_anchor=(1.0, 1.025))\n",
    "plt.tight_layout()\n",
    "plt.savefig(\"fitness_per_generation.pdf\")\n",
    "plt.show()"
   ]
  },
  {
   "cell_type": "code",
   "execution_count": 298,
   "metadata": {},
   "outputs": [
    {
     "data": {
      "application/vnd.jupyter.widget-view+json": {
       "model_id": "",
       "version_major": 2,
       "version_minor": 0
      },
      "text/plain": [
       "Canvas(toolbar=Toolbar(toolitems=[('Home', 'Reset original view', 'home', 'home'), ('Back', 'Back to previous …"
      ]
     },
     "metadata": {},
     "output_type": "display_data"
    }
   ],
   "source": [
    "fw = 8\n",
    "fig = plt.figure(figsize=(fw*np.sqrt(2), fw))\n",
    "ax = plt.subplot(1, 1, 1)\n",
    "\n",
    "plt.plot(np.asarray(maximum), '^', linestyle=':', label='max')\n",
    "\n",
    "# plt.axhline(total, linestyle='--', color='magenta', linewidth=1)\n",
    "plt.axhline(total_different, linestyle='--', color='magenta', linewidth=0.5)\n",
    "ax.set_xlabel('generation')\n",
    "ax.set_ylabel('fitness')\n",
    "plt.legend(loc='upper left', bbox_to_anchor=(1.0, 1.025))\n",
    "plt.tight_layout()\n",
    "plt.savefig(\"max_fitness_per_generation.pdf\")\n",
    "plt.show()"
   ]
  },
  {
   "cell_type": "code",
   "execution_count": 299,
   "metadata": {},
   "outputs": [
    {
     "data": {
      "application/vnd.jupyter.widget-view+json": {
       "model_id": "",
       "version_major": 2,
       "version_minor": 0
      },
      "text/plain": [
       "Canvas(toolbar=Toolbar(toolitems=[('Home', 'Reset original view', 'home', 'home'), ('Back', 'Back to previous …"
      ]
     },
     "metadata": {},
     "output_type": "display_data"
    }
   ],
   "source": [
    "n_ind = len(fitnesses[0])\n",
    "epochs = len(fitnesses)\n",
    "ncols = 3\n",
    "nrows =  epochs//ncols + int(epochs % ncols > 0)\n",
    "fw = 5\n",
    "fig = plt.figure(figsize=(fw*ncols, fw*nrows))\n",
    "plt.suptitle(\"Fitness histogram per generation\\n\")\n",
    "for g in fitnesses:\n",
    "#     if len(fitnesses[g]) < n_ind:\n",
    "#         continue\n",
    "    ax = plt.subplot(nrows, ncols, g+1)\n",
    "    ax.set_title(\"Gen %d   n_ind %d\"%(g+1, len(fitnesses[g])))\n",
    "    plt.hist(fitnesses[g])#, bins=n_bins)\n",
    "#     ax.set_xticks(np.arange(0, total+11, 10))\n",
    "    \n",
    "plt.tight_layout()\n",
    "plt.savefig(\"histogram_per_gen.pdf\")\n",
    "plt.show()"
   ]
  },
  {
   "cell_type": "markdown",
   "metadata": {},
   "source": [
    "Parameter pairs\n",
    "---"
   ]
  },
  {
   "cell_type": "code",
   "execution_count": null,
   "metadata": {},
   "outputs": [],
   "source": []
  },
  {
   "cell_type": "code",
   "execution_count": 287,
   "metadata": {
    "scrolled": false
   },
   "outputs": [
    {
     "data": {
      "application/vnd.jupyter.widget-view+json": {
       "model_id": "",
       "version_major": 2,
       "version_minor": 0
      },
      "text/plain": [
       "Canvas(toolbar=Toolbar(toolitems=[('Home', 'Reset original view', 'home', 'home'), ('Back', 'Back to previous …"
      ]
     },
     "metadata": {},
     "output_type": "display_data"
    }
   ],
   "source": [
    "scores = np.asarray(all_scores) \n",
    "keys = sorted(list(all_params.keys()))\n",
    "n_params = len(keys)\n",
    "n_figs = comb(n_params, 2)\n",
    "n_cols = 3\n",
    "n_rows = n_figs // n_cols + int(n_figs % n_cols > 0)\n",
    "fw = 5.0\n",
    "fig = plt.figure(figsize=(fw*n_cols*1.25, fw*n_rows))\n",
    "plt_idx = 1\n",
    "for i in range(n_params):\n",
    "    for j in range(i+1, n_params):\n",
    "        ax = plt.subplot(n_rows, n_cols, plt_idx)\n",
    "        im  = plt.scatter(all_params[keys[i]], all_params[keys[j]],\n",
    "                          c=scores, \n",
    "#                           s=(100.0 - scores)+ 5.0, \n",
    "#                           s=scores + 5.0, \n",
    "                          vmin=0.0, vmax=total,\n",
    "                          cmap='bwr_r',\n",
    "#                           alpha=0.15\n",
    "                         )\n",
    "        plt.colorbar(im)\n",
    "        \n",
    "        ax.set_xlabel(keys[i])\n",
    "        ax.set_ylabel(keys[j])\n",
    "        \n",
    "        plt_idx += 1\n",
    "plt.show()\n",
    "        "
   ]
  },
  {
   "cell_type": "code",
   "execution_count": null,
   "metadata": {},
   "outputs": [],
   "source": []
  },
  {
   "cell_type": "code",
   "execution_count": null,
   "metadata": {},
   "outputs": [],
   "source": []
  },
  {
   "cell_type": "code",
   "execution_count": null,
   "metadata": {},
   "outputs": [],
   "source": []
  },
  {
   "cell_type": "code",
   "execution_count": 542,
   "metadata": {},
   "outputs": [
    {
     "data": {
      "image/png": "[encoded data removed]",
      "text/plain": [
       "<Figure size 432x288 with 1 Axes>"
      ]
     },
     "metadata": {
      "needs_background": "light"
     },
     "output_type": "display_data"
    }
   ],
   "source": [
    "x = np.arange(0.0, 30.1, 0.1)\n",
    "s = -(1.0/(10 - 1.5)) * np.exp(-x/1.5)\n",
    "f = (1.0/(10 - 1.5)) * np.exp(-x/10.0)\n",
    "v = f + s\n",
    "plt.figure()\n",
    "plt.plot(x, v)\n",
    "plt.plot(x, s, linestyle=':')\n",
    "plt.plot(x, f, linestyle=':')\n",
    "plt.axhline(0, linestyle='--')\n",
    "plt.show()"
   ]
  },
  {
   "cell_type": "code",
   "execution_count": null,
   "metadata": {},
   "outputs": [],
   "source": []
  },
  {
   "cell_type": "code",
   "execution_count": null,
   "metadata": {},
   "outputs": [],
   "source": []
  },
  {
   "cell_type": "code",
   "execution_count": null,
   "metadata": {},
   "outputs": [],
   "source": []
  },
  {
   "cell_type": "code",
   "execution_count": 102,
   "metadata": {},
   "outputs": [
    {
     "ename": "FileNotFoundError",
     "evalue": "[Errno 2] No such file or directory: './run_results/data_gen0_ind0.npz'",
     "output_type": "error",
     "traceback": [
      "\u001b[0;31m---------------------------------------------------------------------------\u001b[0m",
      "\u001b[0;31mFileNotFoundError\u001b[0m                         Traceback (most recent call last)",
      "\u001b[0;32m<ipython-input-102-b460cd8de39d>\u001b[0m in \u001b[0;36m<module>\u001b[0;34m\u001b[0m\n\u001b[0;32m----> 1\u001b[0;31m \u001b[0mdata\u001b[0m \u001b[0;34m=\u001b[0m \u001b[0mnp\u001b[0m\u001b[0;34m.\u001b[0m\u001b[0mload\u001b[0m\u001b[0;34m(\u001b[0m\u001b[0;34m'./run_results/data_gen0_ind0.npz'\u001b[0m\u001b[0;34m)\u001b[0m\u001b[0;34m\u001b[0m\u001b[0m\n\u001b[0m\u001b[1;32m      2\u001b[0m \u001b[0mdata\u001b[0m\u001b[0;34m[\u001b[0m\u001b[0;34m'params'\u001b[0m\u001b[0;34m]\u001b[0m\u001b[0;34m.\u001b[0m\u001b[0mitem\u001b[0m\u001b[0;34m(\u001b[0m\u001b[0;34m)\u001b[0m\u001b[0;34m[\u001b[0m\u001b[0;34m'ind'\u001b[0m\u001b[0;34m]\u001b[0m\u001b[0;34m\u001b[0m\u001b[0m\n\u001b[1;32m      3\u001b[0m \u001b[0mdata\u001b[0m\u001b[0;34m[\u001b[0m\u001b[0;34m'params'\u001b[0m\u001b[0;34m]\u001b[0m\u001b[0;34m.\u001b[0m\u001b[0mitem\u001b[0m\u001b[0;34m(\u001b[0m\u001b[0;34m)\u001b[0m\u001b[0;34m[\u001b[0m\u001b[0;34m'sim'\u001b[0m\u001b[0;34m]\u001b[0m\u001b[0;34m\u001b[0m\u001b[0m\n",
      "\u001b[0;32m~/l2l-omniglot/venv3/lib/python3.5/site-packages/numpy/lib/npyio.py\u001b[0m in \u001b[0;36mload\u001b[0;34m(file, mmap_mode, allow_pickle, fix_imports, encoding)\u001b[0m\n\u001b[1;32m    426\u001b[0m         \u001b[0mown_fid\u001b[0m \u001b[0;34m=\u001b[0m \u001b[0;32mFalse\u001b[0m\u001b[0;34m\u001b[0m\u001b[0m\n\u001b[1;32m    427\u001b[0m     \u001b[0;32melse\u001b[0m\u001b[0;34m:\u001b[0m\u001b[0;34m\u001b[0m\u001b[0m\n\u001b[0;32m--> 428\u001b[0;31m         \u001b[0mfid\u001b[0m \u001b[0;34m=\u001b[0m \u001b[0mopen\u001b[0m\u001b[0;34m(\u001b[0m\u001b[0mos_fspath\u001b[0m\u001b[0;34m(\u001b[0m\u001b[0mfile\u001b[0m\u001b[0;34m)\u001b[0m\u001b[0;34m,\u001b[0m \u001b[0;34m\"rb\"\u001b[0m\u001b[0;34m)\u001b[0m\u001b[0;34m\u001b[0m\u001b[0m\n\u001b[0m\u001b[1;32m    429\u001b[0m         \u001b[0mown_fid\u001b[0m \u001b[0;34m=\u001b[0m \u001b[0;32mTrue\u001b[0m\u001b[0;34m\u001b[0m\u001b[0m\n\u001b[1;32m    430\u001b[0m \u001b[0;34m\u001b[0m\u001b[0m\n",
      "\u001b[0;31mFileNotFoundError\u001b[0m: [Errno 2] No such file or directory: './run_results/data_gen0_ind0.npz'"
     ]
    }
   ],
   "source": [
    "data = np.load('./run_results/data_gen0_ind0.npz')\n",
    "data['params'].item()['ind']\n",
    "data['params'].item()['sim']"
   ]
  },
  {
   "cell_type": "code",
   "execution_count": 5,
   "metadata": {},
   "outputs": [
    {
     "name": "stdout",
     "output_type": "stream",
     "text": [
      "[u'mushroom to output']\n",
      "no weights in data\n"
     ]
    }
   ],
   "source": [
    "data = np.load('./run_results/data_gen0_ind0.npz')\n",
    "# data['params'].item()['ind']\n",
    "# data['params'].item()['sim']\n",
    "params = data['params'].item()\n",
    "weights = data['weights'].item()\n",
    "recordings = data['recs'].item()\n",
    "    \n",
    "print(weights.keys())\n",
    "try:\n",
    "    i2m = weights['input to mushroom']\n",
    "    found = True\n",
    "except:\n",
    "    print(\"no weights in data\")\n",
    "    found = False\n",
    "\n",
    "if found:\n",
    "    for l in i2m:\n",
    "        print(len(l))\n",
    "\n",
    "\n",
    "    nz = data['input'].item()['n_zones']\n",
    "    print(nz)\n",
    "    total_mush = len(recordings['mushroom'][0]['spikes'])\n",
    "    n_single = int(np.prod(nz[0]))\n",
    "    n_per_zone = int(total_mush//nz['total'])\n",
    "    width = params['sim']['input_shape'][1]\n",
    "\n",
    "    img = np.zeros((width, width))\n",
    "    lidx = 0\n",
    "    for sp in range(0, total_mush, n_per_zone)[:n_single]:\n",
    "        ep = sp + n_per_zone\n",
    "        img[:] = 0\n",
    "\n",
    "        for i in range(lidx, len(i2m[0])):\n",
    "            pre, post, w, d = i2m[0][i]\n",
    "            row, col = pre // width, pre % width\n",
    "            img[row, col] += 1\n",
    "\n",
    "            if post > ep:\n",
    "                break\n",
    "            lidx += 1\n",
    "\n",
    "\n",
    "        print(w)\n",
    "        fig = plt.figure()\n",
    "        ax = plt.subplot(1, 1, 1)\n",
    "        plt.imshow(img)\n",
    "        plt.show()\n",
    "        plt.close()\n"
   ]
  },
  {
   "cell_type": "code",
   "execution_count": 6,
   "metadata": {},
   "outputs": [
    {
     "name": "stdout",
     "output_type": "stream",
     "text": [
      "array([  0,   2,   3,   4,   5,   6,   7,   8,   9,  12,  14,  15,  17,\n",
      "        18,  19,  20,  21,  27,  28,  29,  30,  31,  32,  33,  34,  35,\n",
      "        36,  37,  47,  48,  49,  50,  51,  52,  53,  54,  55,  56,  57,\n",
      "        71,  72,  73,  74,  75,  76,  77,  78,  79,  80,  81,  99, 100,\n",
      "       101, 102, 103, 105, 106, 107, 108, 109, 131, 132, 133, 134, 135,\n",
      "       136, 137, 138, 139, 140, 141, 167, 168, 169, 170, 171, 172, 173,\n",
      "       174, 175, 176, 177, 203, 204, 205, 206, 207, 208, 209, 210, 211,\n",
      "       212, 213, 239, 240, 241, 242, 243, 244, 245, 246, 247, 248, 249])\n"
     ]
    }
   ],
   "source": [
    "x = [76,77,78,79,80,81,74,71,72,73,75,105,106,107,108,109,\\\n",
    "102,99,100,101,103,136,137,138,139,140,141,134,131,132,133,135,172,\\\n",
    "173,174,175,176,177,170,167,168,169,171,208,209,210,211,212,213,206,\\\n",
    "203,204,205,207,244,245,246,247,248,249,242,239,240,241,243,32,33,34,\\\n",
    "35,36,37,30,27,28,29,31,4,5,6,7,8,9,2,0,3,17,18,19,20,21,14,12,\\\n",
    "15,52,53,54,55,56,57,50,47,48,49,51]\n",
    "\n",
    "pprint(np.array(sorted(x)))"
   ]
  },
  {
   "cell_type": "code",
   "execution_count": 7,
   "metadata": {},
   "outputs": [],
   "source": [
    "data = np.load('./run_results/data_gen0_ind0.npz')\n",
    "\n",
    "use_gabor = data['params'].item()['sim']['use_gabor']\n",
    "if use_gabor:\n",
    "    recordings = data['recs'].item()\n",
    "    gabor = recordings['gabor']\n",
    "\n",
    "    n_layers = len(gabor.keys())\n",
    "    fw = 2.0\n",
    "    fig = plt.figure(figsize=(2*n_layers*fw, fw))\n",
    "    for lyr in sorted(gabor.keys())[:]:\n",
    "        ax = plt.subplot(1, n_layers, lyr+1)\n",
    "        for r in sorted(gabor[lyr].keys())[:]:\n",
    "            n_cols = len(gabor[lyr][r].keys())\n",
    "            for c in gabor[lyr][r]:\n",
    "                spikes = gabor[lyr][r][c]['spikes']\n",
    "                n_neurons = len(spikes)\n",
    "                for i, times in enumerate(spikes):\n",
    "                    nid = r * n_cols * n_neurons + n_neurons * c + i\n",
    "                    plt.plot(times, nid * np.ones_like(times), '.b', markersize=3)\n",
    "    #         ax.set_ylim(-1, n_neurons * c + i + 1)\n",
    "    plt.show()"
   ]
  },
  {
   "cell_type": "code",
   "execution_count": 9,
   "metadata": {},
   "outputs": [
    {
     "name": "stdout",
     "output_type": "stream",
     "text": [
      "(0.0, 50.0, 251.0)\n",
      "(50.0, 100.0, 39.0)\n",
      "(100.0, 150.0, 176.0)\n",
      "(150.0, 200.0, 86.0)\n",
      "(200.0, 250.0, 0.0)\n"
     ]
    },
    {
     "data": {
      "image/png": "[encoded data removed]",
      "text/plain": [
       "<Figure size 1600x1600 with 1 Axes>"
      ]
     },
     "metadata": {},
     "output_type": "display_data"
    },
    {
     "data": {
      "image/png": "[encoded data removed]",
      "text/plain": [
       "<Figure size 600x400 with 1 Axes>"
      ]
     },
     "metadata": {},
     "output_type": "display_data"
    }
   ],
   "source": [
    "    data = np.load('./run_results/data_gen0_ind0.npz')\n",
    "# try:\n",
    "\n",
    "\n",
    "\n",
    "    n_out = data['params'].item()['sim']['output_size']\n",
    "    n_test = data['params'].item()['sim']['test_per_class']\n",
    "    n_classes = data['params'].item()['sim']['num_classes']\n",
    "    n_out_per_class = n_out // n_classes\n",
    "    dt = data['params'].item()['sim']['sample_dt']\n",
    "    end_t = 210\n",
    "    start_t = 0\n",
    "    \n",
    "    \n",
    "    in_labels = data['input'].item()['labels']\n",
    "    recordings = data['recs'].item()\n",
    "    mush_spikes = recordings['mushroom'][0]['spikes']\n",
    "    imush_spikes = recordings['inh_mushroom'][0]['spikes']\n",
    "#     print(in_labels)\n",
    "    n_mush = float(len(mush_spikes))\n",
    "\n",
    "    in_spikes = data['input'].item()['spikes']\n",
    "    in_rate = []\n",
    "    for st in np.arange(start_t, end_t, dt):\n",
    "        et = st + dt\n",
    "        count = 0.0\n",
    "        n_inputs = 0.0\n",
    "        for lyr in in_spikes:\n",
    "            for i, times in enumerate(in_spikes[lyr]):\n",
    "                for t in times:\n",
    "                    if st <= t < et:\n",
    "                        count += 1.0\n",
    "            n_inputs += i\n",
    "        in_rate.append(count/n_inputs)\n",
    "\n",
    "    out_rate = []\n",
    "    for st in np.arange(start_t, end_t, dt):\n",
    "        et = st + dt\n",
    "        count = 0.0\n",
    "        \n",
    "        for i, times in enumerate(mush_spikes):\n",
    "            for t in times:\n",
    "                if st <= t < et:\n",
    "                    count += 1.0\n",
    "        print(st, et, count)\n",
    "        out_rate.append(count)#/n_mush)\n",
    "\n",
    "        \n",
    "    plt.figure(figsize=(16, 16))\n",
    "    ax = plt.subplot(1, 1, 1)\n",
    "    plt.axhline(np.mean(in_rate)*len(mush_spikes), color='gray')\n",
    "    plt.plot(np.arange(start_t, end_t, dt), np.asarray(in_rate) * n_mush, color='blue')\n",
    "    plt.plot(np.arange(start_t, end_t, dt), np.asarray(out_rate), color='magenta')\n",
    "\n",
    "    for i, times in enumerate(mush_spikes):\n",
    "        for t in times:\n",
    "            if t >= start_t and t < end_t:\n",
    "                plt.plot(t, i, '.m', markersize=3)\n",
    "    mj = 100\n",
    "    for j, times in enumerate(imush_spikes):\n",
    "        for t in times:\n",
    "            if t >= start_t and t < end_t:\n",
    "                plt.plot(t, (i+1+j*mj), '.r', markersize=5)\n",
    "    \n",
    "#     for t in np.arange(start_t, end_t, dt):\n",
    "#         try:\n",
    "#             plt.text(t, i*1.01, \"%s\"%in_labels[int(t//dt)])\n",
    "#         except:\n",
    "#             pass\n",
    "\n",
    "#     plt.show()\n",
    "    ax.set_ylim(-10, i+j*mj+10)\n",
    "    plt.figure()\n",
    "    plt.plot(np.arange(start_t, end_t, dt), (np.asarray(out_rate)/n_mush) *100, color='magenta')\n",
    "    plt.show()\n",
    "# except:\n",
    "#     pass"
   ]
  },
  {
   "cell_type": "code",
   "execution_count": 33,
   "metadata": {},
   "outputs": [
    {
     "data": {
      "image/png": "[encoded data removed]",
      "text/plain": [
       "<Figure size 1600x1600 with 1 Axes>"
      ]
     },
     "metadata": {},
     "output_type": "display_data"
    }
   ],
   "source": [
    "    data = np.load('./run_results/data_gen0_ind0.npz')\n",
    "# try:\n",
    "    n_out = data['params'].item()['sim']['output_size']\n",
    "    n_test = data['params'].item()['sim']['test_per_class']\n",
    "    n_classes = data['params'].item()['sim']['num_classes']\n",
    "    n_out_per_class = n_out // n_classes\n",
    "    dt = data['params'].item()['sim']['sample_dt']\n",
    "    end_t = data['params'].item()['sim']['duration']\n",
    "    start_t = end_t - n_classes * n_test * dt\n",
    "\n",
    "    \n",
    "    in_labels = data['input'].item()['labels']\n",
    "    recordings = data['recs'].item()\n",
    "    mush_spikes = recordings['mushroom'][0]['spikes']\n",
    "    imush_spikes = recordings['inh_mushroom'][0]['spikes']\n",
    "    \n",
    "    \n",
    "\n",
    "    in_spikes = data['input'].item()['spikes']\n",
    "    in_rate = []\n",
    "    for st in np.arange(start_t, end_t, dt):\n",
    "        et = st + dt\n",
    "        count = 0.0\n",
    "        n_inputs = 0.0\n",
    "        for lyr in in_spikes:\n",
    "            for i, times in enumerate(in_spikes[lyr]):\n",
    "                if times:\n",
    "                    for t in times:\n",
    "                        if st <= t < et:\n",
    "                            count += 1.0\n",
    "            n_inputs += i\n",
    "        in_rate.append(count/n_inputs)\n",
    "    \n",
    "    \n",
    "#     print(in_labels)\n",
    "    plt.figure(figsize=(16, 16))\n",
    "    \n",
    "\n",
    "    ax = plt.subplot(1, 1, 1)\n",
    "    \n",
    "    plt.axhline(np.mean(in_rate)*len(mush_spikes), color='gray')\n",
    "    plt.plot(np.arange(start_t, end_t, dt), np.asarray(in_rate) * len(mush_spikes))\n",
    "    \n",
    "    for i, times in enumerate(mush_spikes):\n",
    "        for t in times:\n",
    "            if t >= start_t and t < end_t:\n",
    "                plt.plot(t, i, '.m', markersize=3)\n",
    "    \n",
    "    for times in imush_spikes:\n",
    "        for t in times:\n",
    "            if t >= start_t and t < end_t:\n",
    "                plt.plot(t, (i+1), '.r', markersize=5)\n",
    "    ax.set_ylim(0, len(mush_spikes)*1.05)\n",
    "    \n",
    "    for t in np.arange(start_t, end_t, dt):\n",
    "        plt.text(t, i*1.01, \"%s\"%in_labels[int(t//dt)])\n",
    "\n",
    "    plt.show()\n",
    "# except:\n",
    "#     print(\"mushroom spikes not found\")"
   ]
  },
  {
   "cell_type": "code",
   "execution_count": 127,
   "metadata": {},
   "outputs": [
    {
     "name": "stdout",
     "output_type": "stream",
     "text": [
      "['input', 'recs', 'params', 'weights']\n",
      "125440\n",
      "10\n"
     ]
    },
    {
     "data": {
      "image/png": "[encoded data removed]",
      "text/plain": [
       "<Figure size 1200x800 with 2 Axes>"
      ]
     },
     "metadata": {},
     "output_type": "display_data"
    }
   ],
   "source": [
    "data = np.load('./run_results/data_gen0_ind0.npz')\n",
    "print(data.keys())\n",
    "ws = data['weights'].item()['mushroom to output']\n",
    "print(len( ws ))\n",
    "print(len( ws[0]))\n",
    "npre = min(100, len(ws))\n",
    "npost = len(ws[0])\n",
    "img = np.ones((npre, npost)) * np.nan\n",
    "for i, r in enumerate(ws[:npre]):\n",
    "    img[i, :] = r\n",
    "\n",
    "plt.figure(figsize=(12, 8))\n",
    "ax = plt.subplot(1, 1, 1)\n",
    "im = plt.imshow(img.T, cmap='rainbow')\n",
    "ax.set_xlabel('pre')\n",
    "ax.set_ylabel('post')\n",
    "plt.colorbar(im)\n",
    "plt.show()"
   ]
  },
  {
   "cell_type": "code",
   "execution_count": 11,
   "metadata": {},
   "outputs": [
    {
     "data": {
      "image/png": "[encoded data removed]",
      "text/plain": [
       "<Figure size 600x400 with 1 Axes>"
      ]
     },
     "metadata": {},
     "output_type": "display_data"
    }
   ],
   "source": [
    "data = np.load('./run_results/data_gen0_ind0.npz')\n",
    "recordings = data['recs'].item()\n",
    "out_spikes = recordings['output'][0]['spikes']\n",
    "iout_spikes = recordings['inh_output'][0]['spikes']\n",
    "n_out = data['params'].item()['sim']['output_size']\n",
    "n_test = data['params'].item()['sim']['test_per_class']\n",
    "n_classes = data['params'].item()['sim']['num_classes']\n",
    "n_out_per_class = n_out // n_classes\n",
    "dt = data['params'].item()['sim']['sample_dt']\n",
    "end_t = 100\n",
    "start_t = 0\n",
    "\n",
    "plt.figure()\n",
    "ax = plt.subplot(1, 1, 1)\n",
    "for t in range(start_t, end_t, int(dt)):\n",
    "    plt.axvline(t, linewidth=0.1)\n",
    "    \n",
    "for i, times in enumerate(out_spikes):\n",
    "    for t in times:\n",
    "            if t >= start_t and t < end_t:\n",
    "                plt.plot(t, i, '.b', markersize=3)\n",
    "\n",
    "for times in iout_spikes:\n",
    "    for t in times:\n",
    "            if t >= start_t and t < end_t:\n",
    "                plt.plot(t, (i+1), '.r', markersize=5)\n",
    "\n",
    "ax.set_ylim(-1, n_out+2)\n",
    "plt.show()"
   ]
  },
  {
   "cell_type": "code",
   "execution_count": 35,
   "metadata": {},
   "outputs": [
    {
     "data": {
      "image/png": "[encoded data removed]",
      "text/plain": [
       "<Figure size 600x400 with 1 Axes>"
      ]
     },
     "metadata": {},
     "output_type": "display_data"
    }
   ],
   "source": [
    "data = np.load('./run_results/data_gen0_ind0.npz')\n",
    "recordings = data['recs'].item()\n",
    "out_spikes = recordings['output'][0]['spikes']\n",
    "iout_spikes = recordings['inh_output'][0]['spikes']\n",
    "n_out = data['params'].item()['sim']['output_size']\n",
    "n_test = data['params'].item()['sim']['test_per_class']\n",
    "n_classes = data['params'].item()['sim']['num_classes']\n",
    "n_out_per_class = n_out // n_classes\n",
    "dt = data['params'].item()['sim']['sample_dt']\n",
    "end_t = data['params'].item()['sim']['duration']\n",
    "start_t = end_t - n_classes * n_test * dt\n",
    "\n",
    "plt.figure()\n",
    "ax = plt.subplot(1, 1, 1)\n",
    "\n",
    "for i, times in enumerate(out_spikes):\n",
    "    for t in times:\n",
    "            if t >= start_t and t < end_t:\n",
    "                plt.plot(t, i, '.b', markersize=3)\n",
    "\n",
    "for times in iout_spikes:\n",
    "    for t in times:\n",
    "            if t >= start_t and t < end_t:\n",
    "                plt.plot(t, (i+1), '.r', markersize=5)\n",
    "\n",
    "ax.set_ylim(-5, n_out+5)\n",
    "\n",
    "\n",
    "plt.show()"
   ]
  },
  {
   "cell_type": "code",
   "execution_count": 24,
   "metadata": {},
   "outputs": [],
   "source": []
  },
  {
   "cell_type": "code",
   "execution_count": 25,
   "metadata": {},
   "outputs": [
    {
     "data": {
      "text/plain": [
       "[1, 2, 3, 1, 2, 3, 1, 2, 3, 5, 5]"
      ]
     },
     "execution_count": 25,
     "metadata": {},
     "output_type": "execute_result"
    }
   ],
   "source": [
    "l = [1, 2, 3]\n",
    "l *= 3\n",
    "l + [5, 5]"
   ]
  },
  {
   "cell_type": "code",
   "execution_count": 26,
   "metadata": {},
   "outputs": [
    {
     "name": "stdout",
     "output_type": "stream",
     "text": [
      "1\n",
      "2\n",
      "3\n",
      "9\n"
     ]
    }
   ],
   "source": [
    "from collections import OrderedDict\n",
    "x = OrderedDict({1: 10, 2: 20, 3: 30, 9: 90})\n",
    "for kx in x:\n",
    "    print(kx)"
   ]
  },
  {
   "cell_type": "code",
   "execution_count": 27,
   "metadata": {},
   "outputs": [
    {
     "data": {
      "text/plain": [
       "array([1, 1, 1, 1, 1, 2, 2, 2, 2, 2, 3, 3, 3, 3, 3])"
      ]
     },
     "execution_count": 27,
     "metadata": {},
     "output_type": "execute_result"
    }
   ],
   "source": [
    "np.repeat([1, 2, 3], 5)"
   ]
  },
  {
   "cell_type": "code",
   "execution_count": 7,
   "metadata": {},
   "outputs": [
    {
     "name": "stdout",
     "output_type": "stream",
     "text": [
      "KeysView(<numpy.lib.npyio.NpzFile object at 0x7f7521267278>)\n",
      "['o', 'v', '^', '<', '>', '8', 's', 'p', '*', 'h', 'H', 'd', 'D', 'P', 'X', '+']\n"
     ]
    },
    {
     "data": {
      "image/png": "[encoded data removed]",
      "text/plain": [
       "<Figure size 1008x1440 with 1 Axes>"
      ]
     },
     "metadata": {
      "needs_background": "light"
     },
     "output_type": "display_data"
    },
    {
     "name": "stdout",
     "output_type": "stream",
     "text": [
      "3.065600898415484\n"
     ]
    },
    {
     "data": {
      "image/png": "[encoded data removed]",
      "text/plain": [
       "<Figure size 1152x576 with 4 Axes>"
      ]
     },
     "metadata": {
      "needs_background": "light"
     },
     "output_type": "display_data"
    }
   ],
   "source": [
    "def spiking_per_class(indices, spikes, start_t, end_t, dt):\n",
    "    neurons_per_class = {u: {} for u in np.unique(indices)}\n",
    "    et = 0\n",
    "    for st in np.arange(start_t, end_t, dt):\n",
    "        et = st + dt\n",
    "        class_idx = int((st-start_t)//dt)\n",
    "        cls = int(indices[class_idx])\n",
    "        for nid, ts in enumerate(spikes):\n",
    "            times = np.array(ts)\n",
    "            whr = np.where(np.logical_and(st <= times, times < et))[0]\n",
    "            if len(whr):\n",
    "                narray = neurons_per_class[cls].get(nid, None)\n",
    "                if narray is None:\n",
    "                    narray = times[whr]\n",
    "                else:\n",
    "                    narray = np.append(narray, times[whr])\n",
    "\n",
    "                neurons_per_class[cls][nid] = narray\n",
    "\n",
    "    return neurons_per_class\n",
    "\n",
    "base_dir = './L2L-OMNIGLOT/run_results/'\n",
    "fname = os.path.join(base_dir, 'data_gen0_ind0.npz')\n",
    "data = np.load(fname, allow_pickle=True)\n",
    "print(data.keys())\n",
    "n_out = data['params'].item()['sim']['output_size']\n",
    "n_test = data['params'].item()['sim']['test_per_class']\n",
    "n_classes = data['params'].item()['sim']['num_classes']\n",
    "n_out_per_class = n_out // n_classes\n",
    "dt = data['params'].item()['sim']['sample_dt']\n",
    "recordings = data['recs'].item()\n",
    "out_spikes = recordings['output'][0]['spikes']\n",
    "labels = data['input'].item()['labels']\n",
    "end_t = data['params'].item()['sim']['duration']\n",
    "start_t = end_t - n_classes * n_test * dt\n",
    "npc = spiking_per_class(labels, out_spikes, start_t, end_t, dt)\n",
    "# pprint(npc)\n",
    "\n",
    "\n",
    "\n",
    "from matplotlib.lines import Line2D\n",
    "# markers = [m for m in Line2D.filled_markers ]\n",
    "markers = [\n",
    "    u'o', u'v', u'^', u'<', u'>', u'8', u's', u'p', u'*', \n",
    "    u'h', u'H', u'd', u'D', u'P', u'X', u'+',\n",
    "]\n",
    "# markers = ['o', 'v', '<', 's', 'P', '*', 'X', 'D', 'H', '>'] * 2\n",
    "\n",
    "# markers = [\"$%s$\"%s for s in \"abcdefghijklmnopqrst\"]\n",
    "\n",
    "# gr = matplotlib.cm.nipy_spectral\n",
    "gr = matplotlib.cm.rainbow\n",
    "cmap_dc = gr.N//(n_classes+1)\n",
    "cmap = np.array([gr(i*cmap_dc) for i in range(n_classes+1)] )\n",
    "cmap[:, 3] = 1.0\n",
    "sqr_nclass = np.ceil(np.sqrt(n_classes))\n",
    "print(markers)\n",
    "plt.figure(figsize=(n_classes, n_out_per_class))\n",
    "ax = plt.subplot(1, 1, 1)\n",
    "\n",
    "for x in range(n_classes + 1):\n",
    "    plt.axvline(x-0.5, color='gray', linestyle=':')\n",
    "\n",
    "for y in range(n_out_per_class + 1):\n",
    "    plt.axhline(y-0.5, color='gray', linestyle=':')\n",
    "    \n",
    "for cls, spikes in npc.items():\n",
    "    mrk = markers[cls % len(markers)]\n",
    "    clr = cmap[cls]\n",
    "    first_plot = True\n",
    "    for nid in spikes:\n",
    "        y = nid // n_classes\n",
    "        x = nid % n_classes\n",
    "        \n",
    "        dx = 0.15*((cls % sqr_nclass) - (sqr_nclass/2.0)) #* (1.5/float(n_classes))\n",
    "        dy = 0.15*((cls // sqr_nclass) - (sqr_nclass/2.0)) #* (1.5/float(n_classes))\n",
    "\n",
    "        \n",
    "        if first_plot:\n",
    "            label = cls\n",
    "            first_plot = False\n",
    "        else:\n",
    "            label = None\n",
    "        plt.plot(x+dx, y+dy, marker=mrk, markerfacecolor=clr, markersize=7,\n",
    "                 markeredgecolor=clr, markeredgewidth=1, label=label, linestyle='none')\n",
    "\n",
    "ax.set_xlim(-1.1, n_classes + 0.1)\n",
    "ax.set_ylim(-1.1, n_out_per_class + 0.1)\n",
    "plt.legend(loc='upper center', bbox_to_anchor=(1.05, 1.01), shadow=True, ncol=1)\n",
    "plt.show()\n",
    "# npc\n",
    "\n",
    "\n",
    "cmap = 'plasma'\n",
    "vectors = [np.zeros(n_classes*n_out_per_class) for _ in npc]\n",
    "for c in npc:\n",
    "    vectors[c-1][list(npc[c].keys())] = 1\n",
    "    \n",
    "dots = np.asarray([[np.dot(x, y)/(np.linalg.norm(x)*np.linalg.norm(y)) for x in vectors] for y in vectors])\n",
    "angles = np.asarray([[np.degrees(np.arccos(d)) if d < 0.999 else 0.0 for d in dots_row  ] for dots_row in dots])\n",
    "\n",
    "dtriu = [np.dot(x, y) / (np.linalg.norm(x) * np.linalg.norm(y)) \\\n",
    "         for ix, x in enumerate(vectors) for iy, y in enumerate(vectors) if ix > iy]\n",
    "print(np.sum(dtriu))\n",
    "# for l in dtriu:\n",
    "#     print(len(l), l)\n",
    "\n",
    "\n",
    "fw = 8.0\n",
    "plt.figure(figsize=(2*fw, fw))\n",
    "ax = plt.subplot(1, 2, 1)\n",
    "ax.set_title('sum of cos = {}'.format(np.sum(dtriu)))\n",
    "im = plt.imshow(dots, cmap=cmap, vmin=0.0, vmax=1.0)\n",
    "ax.set_xticks(np.arange(n_classes))\n",
    "ax.set_xticklabels(np.arange(1, n_classes+1, dtype='int'))\n",
    "ax.set_yticks(np.arange(n_classes))\n",
    "ax.set_yticklabels(np.arange(1, n_classes+1, dtype='int'))\n",
    "plt.colorbar(im)\n",
    "\n",
    "ax = plt.subplot(1, 2, 2)\n",
    "ax.set_title('rms = {}'.format( np.mean((90.0-angles)**2) ))\n",
    "im = plt.imshow(angles, cmap=cmap+'_r', vmin=0.0, vmax=90.0)\n",
    "ax.set_xticks(np.arange(n_classes))\n",
    "ax.set_xticklabels(np.arange(1, n_classes+1, dtype='int'))\n",
    "ax.set_yticks(np.arange(n_classes))\n",
    "ax.set_yticklabels(np.arange(1, n_classes+1, dtype='int'))\n",
    "plt.colorbar(im)\n",
    "\n",
    "plt.show()\n"
   ]
  },
  {
   "cell_type": "code",
   "execution_count": 26,
   "metadata": {},
   "outputs": [
    {
     "data": {
      "text/plain": [
       "array([  0.,   1.,   3.,   6.,  10.,  15.,  21.,  28.,  36.,  45.])"
      ]
     },
     "execution_count": 26,
     "metadata": {},
     "output_type": "execute_result"
    }
   ],
   "source": [
    "# npc\n",
    "import scipy as sp\n",
    "from scipy.special import comb\n",
    "\n",
    "comb(np.arange(10)+1, 2)"
   ]
  },
  {
   "cell_type": "code",
   "execution_count": 37,
   "metadata": {},
   "outputs": [
    {
     "name": "stderr",
     "output_type": "stream",
     "text": [
      "-c:6: RuntimeWarning: invalid value encountered in double_scalars\n"
     ]
    },
    {
     "data": {
      "image/png": "[encoded data removed]",
      "text/plain": [
       "<Figure size 1600x800 with 4 Axes>"
      ]
     },
     "metadata": {},
     "output_type": "display_data"
    }
   ],
   "source": [
    "cmap = 'plasma'\n",
    "vectors = [np.zeros(n_classes*n_out_per_class) for _ in npc]\n",
    "for c in npc:\n",
    "    vectors[c-1][npc[c].keys()] = 1\n",
    "    \n",
    "dots = np.asarray([[np.dot(x, y)/(np.linalg.norm(x)*np.linalg.norm(y)) for x in vectors] for y in vectors])\n",
    "angles = np.asarray([[np.degrees(np.arccos(d)) if d < 0.999 else 0.0 for d in dots_row  ] for dots_row in dots])\n",
    "\n",
    "fw = 8.0\n",
    "plt.figure(figsize=(2*fw, fw))\n",
    "ax = plt.subplot(1, 2, 1)\n",
    "ax.set_title('rms = {}'.format( np.mean((1.0 - dots)**2) ))\n",
    "im = plt.imshow(dots, cmap=cmap, vmin=0.0, vmax=1.0)\n",
    "plt.colorbar(im)\n",
    "\n",
    "ax = plt.subplot(1, 2, 2)\n",
    "ax.set_title('rms = {}'.format( np.mean((90.0-angles)**2) ))\n",
    "im = plt.imshow(angles, cmap=cmap+'_r', vmin=0.0, vmax=90.0)\n",
    "plt.colorbar(im)\n",
    "\n",
    "plt.show()"
   ]
  },
  {
   "cell_type": "code",
   "execution_count": 38,
   "metadata": {
    "scrolled": true
   },
   "outputs": [
    {
     "name": "stdout",
     "output_type": "stream",
     "text": [
      "[u'mushroom to output']\n"
     ]
    },
    {
     "ename": "KeyError",
     "evalue": "'input to gabor'",
     "output_type": "error",
     "traceback": [
      "\u001b[0;31m---------------------------------------------------------------------------\u001b[0m\n\u001b[0;31mKeyError\u001b[0m                                  Traceback (most recent call last)",
      "\u001b[0;32m<ipython-input-38-014e01f58cb6>\u001b[0m in \u001b[0;36m<module>\u001b[0;34m()\u001b[0m\n\u001b[1;32m      3\u001b[0m \u001b[0mweights\u001b[0m \u001b[0;34m=\u001b[0m \u001b[0mdata\u001b[0m\u001b[0;34m[\u001b[0m\u001b[0;34m'weights'\u001b[0m\u001b[0;34m]\u001b[0m\u001b[0;34m.\u001b[0m\u001b[0mitem\u001b[0m\u001b[0;34m(\u001b[0m\u001b[0;34m)\u001b[0m\u001b[0;34m\u001b[0m\u001b[0m\n\u001b[1;32m      4\u001b[0m \u001b[0;32mprint\u001b[0m\u001b[0;34m(\u001b[0m\u001b[0mweights\u001b[0m\u001b[0;34m.\u001b[0m\u001b[0mkeys\u001b[0m\u001b[0;34m(\u001b[0m\u001b[0;34m)\u001b[0m\u001b[0;34m)\u001b[0m\u001b[0;34m\u001b[0m\u001b[0m\n\u001b[0;32m----> 5\u001b[0;31m \u001b[0mwgabor\u001b[0m \u001b[0;34m=\u001b[0m \u001b[0mweights\u001b[0m\u001b[0;34m[\u001b[0m\u001b[0;34m'input to gabor'\u001b[0m\u001b[0;34m]\u001b[0m\u001b[0;34m\u001b[0m\u001b[0m\n\u001b[0m\u001b[1;32m      6\u001b[0m \u001b[0;31m# print(wgabor)\u001b[0m\u001b[0;34m\u001b[0m\u001b[0;34m\u001b[0m\u001b[0m\n\u001b[1;32m      7\u001b[0m \u001b[0;32mfor\u001b[0m \u001b[0mlyr\u001b[0m \u001b[0;32min\u001b[0m \u001b[0mwgabor\u001b[0m\u001b[0;34m.\u001b[0m\u001b[0mkeys\u001b[0m\u001b[0;34m(\u001b[0m\u001b[0;34m)\u001b[0m\u001b[0;34m[\u001b[0m\u001b[0;34m:\u001b[0m\u001b[0;36m1\u001b[0m\u001b[0;34m]\u001b[0m\u001b[0;34m:\u001b[0m\u001b[0;34m\u001b[0m\u001b[0m\n",
      "\u001b[0;31mKeyError\u001b[0m: 'input to gabor'"
     ]
    }
   ],
   "source": [
    "data = np.load('./run_results/data_gen0_ind0.npz')\n",
    "n_post = int(data['params'].item()['ind']['n_pi_divs'])\n",
    "weights = data['weights'].item()\n",
    "print(weights.keys())\n",
    "wgabor = weights['input to gabor']\n",
    "# print(wgabor)\n",
    "for lyr in wgabor.keys()[:1]:\n",
    "    for r in wgabor[lyr].keys()[:1]:\n",
    "        for c in wgabor[lyr][r].keys()[:1]:\n",
    "            img = [np.zeros((28, 28, 3)) for _ in range(n_post)]\n",
    "\n",
    "            for x in wgabor[lyr][r][c]:\n",
    "                ch = 0 if x == u'inh' else 1\n",
    "#                 if x == u'exc':\n",
    "#                     continue\n",
    "                print(lyr, r, c, x, ch, len(wgabor[lyr][r][c][x]))\n",
    "#                 print(wgabor[lyr][r][c][x])\n",
    "                for pre, ws in enumerate(wgabor[lyr][r][c][x]):\n",
    "                    for post, w in enumerate(ws):\n",
    "                        if not np.isnan(w):\n",
    "                            img[post][pre//28, pre%28, ch] = np.abs(w)\n",
    "            \n",
    "            plt.figure(figsize=(n_post*2.5, 2))\n",
    "            for post in range(n_post):\n",
    "                ax = plt.subplot(1, n_post, post + 1)\n",
    "                max_v = np.max(np.abs(img[post]))\n",
    "                plt.imshow(img[post]/max_v)\n",
    "            plt.show()"
   ]
  },
  {
   "cell_type": "code",
   "execution_count": 158,
   "metadata": {},
   "outputs": [
    {
     "data": {
      "text/plain": [
       "1.5707963267948966"
      ]
     },
     "execution_count": 158,
     "metadata": {},
     "output_type": "execute_result"
    }
   ],
   "source": [
    "np.arccos(0.0)"
   ]
  },
  {
   "cell_type": "code",
   "execution_count": null,
   "metadata": {},
   "outputs": [],
   "source": []
  },
  {
   "cell_type": "code",
   "execution_count": 112,
   "metadata": {},
   "outputs": [
    {
     "name": "stdout",
     "output_type": "stream",
     "text": [
      "0\n",
      "1\n",
      "2\n",
      "3\n",
      "4\n",
      "5\n",
      "6\n",
      "7\n",
      "8\n",
      "9\n",
      "10\n",
      "11\n",
      "[0, 0, 0]\n",
      "[0, 0, 1]\n",
      "[0, 1, 0]\n",
      "[0, 1, 1]\n",
      "[0, 2, 0]\n",
      "[0, 2, 1]\n",
      "[1, 0, 0]\n",
      "[1, 0, 1]\n",
      "[1, 1, 0]\n",
      "[1, 1, 1]\n",
      "[1, 2, 0]\n",
      "[1, 2, 1]\n"
     ]
    }
   ],
   "source": [
    "_w = 3\n",
    "_h = 2\n",
    "_d = 2\n",
    "\n",
    "cs = [\n",
    "    [0, 0, 0],\n",
    "    [0, 0, 1],\n",
    "    [0, 1, 0],\n",
    "    [0, 1, 1],\n",
    "    [0, 2, 0],\n",
    "    [0, 2, 1],\n",
    "    [1, 0, 0],\n",
    "    [1, 0, 1],\n",
    "    [1, 1, 0],\n",
    "    [1, 1, 1],\n",
    "    [1, 2, 0],\n",
    "    [1, 2, 1],\n",
    "]\n",
    "\n",
    "for row, col, dep in cs:\n",
    "    wd = _w*_d\n",
    "    print(row * wd + col*_d + dep)\n",
    "\n",
    "for idx in range(12):\n",
    "    wd = _w*_d\n",
    "    row = idx//(wd)\n",
    "    col = (idx%wd)/_d\n",
    "    dep = idx - row*wd - col*_d\n",
    "    print([row, col, dep])"
   ]
  },
  {
   "cell_type": "code",
   "execution_count": null,
   "metadata": {},
   "outputs": [],
   "source": []
  },
  {
   "cell_type": "code",
   "execution_count": null,
   "metadata": {},
   "outputs": [],
   "source": []
  },
  {
   "cell_type": "code",
   "execution_count": null,
   "metadata": {},
   "outputs": [],
   "source": []
  }
 ],
 "metadata": {
  "kernelspec": {
   "display_name": "Python 3",
   "language": "python",
   "name": "python3"
  },
  "language_info": {
   "codemirror_mode": {
    "name": "ipython",
    "version": 3
   },
   "file_extension": ".py",
   "mimetype": "text/x-python",
   "name": "python",
   "nbconvert_exporter": "python",
   "pygments_lexer": "ipython3",
   "version": "3.5.2"
  }
 },
 "nbformat": 4,
 "nbformat_minor": 1
}
