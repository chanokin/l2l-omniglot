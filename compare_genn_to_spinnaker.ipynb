{
 "cells": [
  {
   "cell_type": "code",
   "execution_count": 39,
   "metadata": {},
   "outputs": [],
   "source": [
    "%matplotlib widget\n",
    "import numpy as np\n",
    "import matplotlib.pyplot as plt\n",
    "import matplotlib\n",
    "\n",
    "def plot_spiketrains(segment, marker='.'):\n",
    "    for spiketrain in segment.spiketrains:\n",
    "        y = np.ones_like(spiketrain) * spiketrain.annotations['source_id']\n",
    "        plt.plot(spiketrain, y, linestyle='none', marker=marker)\n",
    "#         plt.ylabel(segment.name)\n",
    "#         plt.setp(plt.gca().get_xticklabels(), visible=False)"
   ]
  },
  {
   "cell_type": "markdown",
   "metadata": {},
   "source": [
    "Spiking behaviour of neuron\n",
    "---"
   ]
  },
  {
   "cell_type": "code",
   "execution_count": 40,
   "metadata": {},
   "outputs": [],
   "source": [
    "sp = np.load('spinnaker_spiking_behaviour.npz', allow_pickle=True)\n",
    "gn = np.load('genn_spiking_behaviour.npz', allow_pickle=True)\n"
   ]
  },
  {
   "cell_type": "code",
   "execution_count": 41,
   "metadata": {},
   "outputs": [
    {
     "name": "stdout",
     "output_type": "stream",
     "text": [
      "[0.   0.05 0.1  0.15 0.2  0.25 0.3  0.35 0.4  0.45 0.5  0.55 0.6  0.65\n",
      " 0.7  0.75 0.8  0.85 0.9  0.95]\n",
      "20\n"
     ]
    }
   ],
   "source": [
    "i_offsets = np.arange(0.0, 1.0, 0.05)\n",
    "print(i_offsets)\n",
    "print(len(i_offsets))"
   ]
  },
  {
   "cell_type": "code",
   "execution_count": 81,
   "metadata": {},
   "outputs": [
    {
     "data": {
      "application/vnd.jupyter.widget-view+json": {
       "model_id": "553df1f6c1fb4ffaa0f728f112f9b26f",
       "version_major": 2,
       "version_minor": 0
      },
      "text/plain": [
       "Canvas(toolbar=Toolbar(toolitems=[('Home', 'Reset original view', 'home', 'home'), ('Back', 'Back to previous …"
      ]
     },
     "metadata": {},
     "output_type": "display_data"
    }
   ],
   "source": [
    "plt.close('all')\n",
    "\n",
    "fig = plt.figure(figsize=(7, 5))\n",
    "\n",
    "ax = plt.subplot(1, 1, 1)\n",
    "\n",
    "ax.set_title(r\"$\\mathbf{\\times}$ GeNN        $\\mathbf{+}$ SpiNNaker\")\n",
    "\n",
    "plot_spiketrains(gn['spikes'].item(), 'x')\n",
    "plot_spiketrains(sp['spikes'].item(), '+')\n",
    "\n",
    "# ax.set_xlim(-5, 210)\n",
    "\n",
    "ax.set_ylim(0, len(i_offsets))\n",
    "\n",
    "ticks = (np.array(ax.get_yticks())) / 20.0\n",
    "ax.set_yticklabels(ticks)\n",
    "\n",
    "ax.set_ylabel(\"Current offset [nA]\")\n",
    "ax.set_xlabel(\"Time [ms]\")\n",
    "# ax.set_xtick\n",
    "\n",
    "plt.savefig(\"spiking_behaviour_comparison.pdf\")\n",
    "plt.show()\n",
    "    "
   ]
  },
  {
   "cell_type": "markdown",
   "metadata": {},
   "source": [
    "---"
   ]
  },
  {
   "cell_type": "markdown",
   "metadata": {},
   "source": [
    "STDP curve\n",
    "---"
   ]
  },
  {
   "cell_type": "code",
   "execution_count": 64,
   "metadata": {},
   "outputs": [],
   "source": [
    "ssp = np.load('spinnaker_stdp_experiments.npz', allow_pickle=True)\n",
    "sgn = np.load('genn_stdp_experiments.npz', allow_pickle=True)"
   ]
  },
  {
   "cell_type": "code",
   "execution_count": 73,
   "metadata": {},
   "outputs": [
    {
     "data": {
      "application/vnd.jupyter.widget-view+json": {
       "model_id": "",
       "version_major": 2,
       "version_minor": 0
      },
      "text/plain": [
       "Canvas(toolbar=Toolbar(toolitems=[('Home', 'Reset original view', 'home', 'home'), ('Back', 'Back to previous …"
      ]
     },
     "metadata": {},
     "output_type": "display_data"
    }
   ],
   "source": [
    "fig = plt.figure(figsize=(7, 5))\n",
    "\n",
    "ax = plt.subplot(1, 1, 1)\n",
    "\n",
    "ax.set_title(r\"Learning rule\")\n",
    "\n",
    "plt.axvline(0, linestyle='--', color='gray', linewidth=1)\n",
    "plt.axhline(0, linestyle='--', color='gray', linewidth=1)\n",
    "\n",
    "for delay in ssp['experiments'].item():\n",
    "    dt_dw = ssp['experiments'].item()[delay]\n",
    "    dts = sorted(dt_dw.keys())\n",
    "    dws = [dt_dw[dt] for dt in dts]\n",
    "    plt.plot(dts, dws, '--', label='SpiNNaker')\n",
    "\n",
    "for delay in sgn['experiments'].item():\n",
    "    dt_dw = sgn['experiments'].item()[delay]\n",
    "    dts = sorted(dt_dw.keys())\n",
    "    dws = [dt_dw[dt] for dt in dts]\n",
    "    plt.plot(dts, dws, ':', label='GeNN')\n",
    "    \n",
    "ax.set_xlabel(r'$\\Delta t = t_{pre} - t_{post}$ [ms]')\n",
    "ax.set_ylabel(r'$\\Delta w $')\n",
    "plt.legend()\n",
    "plt.savefig(\"stdp_comparison.pdf\")\n",
    "plt.show()\n",
    "    "
   ]
  },
  {
   "cell_type": "code",
   "execution_count": null,
   "metadata": {},
   "outputs": [],
   "source": []
  },
  {
   "cell_type": "code",
   "execution_count": null,
   "metadata": {},
   "outputs": [],
   "source": []
  }
 ],
 "metadata": {
  "kernelspec": {
   "display_name": "Python 3",
   "language": "python",
   "name": "python3"
  },
  "language_info": {
   "codemirror_mode": {
    "name": "ipython",
    "version": 3
   },
   "file_extension": ".py",
   "mimetype": "text/x-python",
   "name": "python",
   "nbconvert_exporter": "python",
   "pygments_lexer": "ipython3",
   "version": "3.5.2"
  }
 },
 "nbformat": 4,
 "nbformat_minor": 2
}
